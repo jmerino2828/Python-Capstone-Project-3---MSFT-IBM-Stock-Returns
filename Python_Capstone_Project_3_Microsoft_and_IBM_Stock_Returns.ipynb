{
 "cells": [
  {
   "cell_type": "markdown",
   "id": "e256890d",
   "metadata": {
    "id": "e256890d"
   },
   "source": [
    "## LACC Python Capstone Project 3 - Stock Returns Microsofot - IBM\n",
    "\n",
    "#### In this project, we are going to compare the stock returns over time of two technology companies: Microsoft & IBM.\n",
    "\n",
    "#### I am going to compare which stock has perform better over time. To calculate returns, I am using the logarithm return method which gives a more precise result than the regular mathematical return.\n",
    "\n",
    "### Data Dictionary Information\n",
    "\n",
    "1. **Date:** Date of the stock price records.\n",
    "\n",
    "2. **Open:** The average value of opened price on a particular day.\n",
    "\n",
    "3. **Close:**  The average value of closed  price on a particular day.\n",
    "\n",
    "4. **Low:** The lowest price reached on a particular day.\n",
    "\n",
    "5. **High:** The highest price reached on a particular day."
   ]
  },
  {
   "cell_type": "markdown",
   "id": "3cbc18cb",
   "metadata": {
    "id": "3cbc18cb"
   },
   "source": [
    "#### Let's export  all necessary libraries."
   ]
  },
  {
   "cell_type": "code",
   "execution_count": null,
   "id": "b84605b0",
   "metadata": {
    "id": "b84605b0"
   },
   "outputs": [],
   "source": [
    "import pandas as pd\n",
    "import numpy as np\n",
    "import matplotlib.pyplot as plt\n",
    "import seaborn as sns\n",
    "%matplotlib inline\n",
    "!pip install quandl\n",
    "import quandl as q\n",
    "pd.set_option('display.float_format', '{:.6f}'.format) #Setting the number of decimal places"
   ]
  },
  {
   "cell_type": "markdown",
   "id": "a0aa9eb6",
   "metadata": {
    "id": "a0aa9eb6"
   },
   "source": [
    "#### As data source, we are importing historical stock prices from WIKI Prices using quandl library.\n",
    "\n",
    "#### First, let's import the historical stock prices for both companies. The tickers for Microsoft and IBM are MSFT and IBM respectively."
   ]
  },
  {
   "cell_type": "code",
   "execution_count": 36,
   "id": "4fd3bfa8",
   "metadata": {
    "colab": {
     "base_uri": "https://localhost:8080/",
     "height": 238
    },
    "id": "4fd3bfa8",
    "outputId": "4e2624e1-3523-4f84-b4e4-ce04e2702bb0"
   },
   "outputs": [
    {
     "data": {
      "text/html": [
       "<div>\n",
       "<style scoped>\n",
       "    .dataframe tbody tr th:only-of-type {\n",
       "        vertical-align: middle;\n",
       "    }\n",
       "\n",
       "    .dataframe tbody tr th {\n",
       "        vertical-align: top;\n",
       "    }\n",
       "\n",
       "    .dataframe thead th {\n",
       "        text-align: right;\n",
       "    }\n",
       "</style>\n",
       "<table border=\"1\" class=\"dataframe\">\n",
       "  <thead>\n",
       "    <tr style=\"text-align: right;\">\n",
       "      <th></th>\n",
       "      <th>Open</th>\n",
       "      <th>High</th>\n",
       "      <th>Low</th>\n",
       "      <th>Close</th>\n",
       "      <th>Volume</th>\n",
       "      <th>Ex-Dividend</th>\n",
       "      <th>Split Ratio</th>\n",
       "      <th>Adj. Open</th>\n",
       "      <th>Adj. High</th>\n",
       "      <th>Adj. Low</th>\n",
       "      <th>Adj. Close</th>\n",
       "      <th>Adj. Volume</th>\n",
       "    </tr>\n",
       "    <tr>\n",
       "      <th>Date</th>\n",
       "      <th></th>\n",
       "      <th></th>\n",
       "      <th></th>\n",
       "      <th></th>\n",
       "      <th></th>\n",
       "      <th></th>\n",
       "      <th></th>\n",
       "      <th></th>\n",
       "      <th></th>\n",
       "      <th></th>\n",
       "      <th></th>\n",
       "      <th></th>\n",
       "    </tr>\n",
       "  </thead>\n",
       "  <tbody>\n",
       "    <tr>\n",
       "      <th>1986-03-13</th>\n",
       "      <td>25.500000</td>\n",
       "      <td>29.250000</td>\n",
       "      <td>25.500000</td>\n",
       "      <td>28.000000</td>\n",
       "      <td>3582600.000000</td>\n",
       "      <td>0.000000</td>\n",
       "      <td>1.000000</td>\n",
       "      <td>0.058941</td>\n",
       "      <td>0.067609</td>\n",
       "      <td>0.058941</td>\n",
       "      <td>0.064720</td>\n",
       "      <td>1031788800.000000</td>\n",
       "    </tr>\n",
       "    <tr>\n",
       "      <th>1986-03-14</th>\n",
       "      <td>28.000000</td>\n",
       "      <td>29.500000</td>\n",
       "      <td>28.000000</td>\n",
       "      <td>29.000000</td>\n",
       "      <td>1070000.000000</td>\n",
       "      <td>0.000000</td>\n",
       "      <td>1.000000</td>\n",
       "      <td>0.064720</td>\n",
       "      <td>0.068187</td>\n",
       "      <td>0.064720</td>\n",
       "      <td>0.067031</td>\n",
       "      <td>308160000.000000</td>\n",
       "    </tr>\n",
       "    <tr>\n",
       "      <th>1986-03-17</th>\n",
       "      <td>29.000000</td>\n",
       "      <td>29.750000</td>\n",
       "      <td>29.000000</td>\n",
       "      <td>29.500000</td>\n",
       "      <td>462400.000000</td>\n",
       "      <td>0.000000</td>\n",
       "      <td>1.000000</td>\n",
       "      <td>0.067031</td>\n",
       "      <td>0.068765</td>\n",
       "      <td>0.067031</td>\n",
       "      <td>0.068187</td>\n",
       "      <td>133171200.000000</td>\n",
       "    </tr>\n",
       "    <tr>\n",
       "      <th>1986-03-18</th>\n",
       "      <td>29.500000</td>\n",
       "      <td>29.750000</td>\n",
       "      <td>28.500000</td>\n",
       "      <td>28.750000</td>\n",
       "      <td>235300.000000</td>\n",
       "      <td>0.000000</td>\n",
       "      <td>1.000000</td>\n",
       "      <td>0.068187</td>\n",
       "      <td>0.068765</td>\n",
       "      <td>0.065876</td>\n",
       "      <td>0.066454</td>\n",
       "      <td>67766400.000000</td>\n",
       "    </tr>\n",
       "    <tr>\n",
       "      <th>1986-03-19</th>\n",
       "      <td>28.750000</td>\n",
       "      <td>29.000000</td>\n",
       "      <td>28.000000</td>\n",
       "      <td>28.250000</td>\n",
       "      <td>166300.000000</td>\n",
       "      <td>0.000000</td>\n",
       "      <td>1.000000</td>\n",
       "      <td>0.066454</td>\n",
       "      <td>0.067031</td>\n",
       "      <td>0.064720</td>\n",
       "      <td>0.065298</td>\n",
       "      <td>47894400.000000</td>\n",
       "    </tr>\n",
       "  </tbody>\n",
       "</table>\n",
       "</div>"
      ],
      "text/plain": [
       "                Open      High       Low     Close         Volume  \\\n",
       "Date                                                                \n",
       "1986-03-13 25.500000 29.250000 25.500000 28.000000 3582600.000000   \n",
       "1986-03-14 28.000000 29.500000 28.000000 29.000000 1070000.000000   \n",
       "1986-03-17 29.000000 29.750000 29.000000 29.500000  462400.000000   \n",
       "1986-03-18 29.500000 29.750000 28.500000 28.750000  235300.000000   \n",
       "1986-03-19 28.750000 29.000000 28.000000 28.250000  166300.000000   \n",
       "\n",
       "            Ex-Dividend  Split Ratio  Adj. Open  Adj. High  Adj. Low  \\\n",
       "Date                                                                   \n",
       "1986-03-13     0.000000     1.000000   0.058941   0.067609  0.058941   \n",
       "1986-03-14     0.000000     1.000000   0.064720   0.068187  0.064720   \n",
       "1986-03-17     0.000000     1.000000   0.067031   0.068765  0.067031   \n",
       "1986-03-18     0.000000     1.000000   0.068187   0.068765  0.065876   \n",
       "1986-03-19     0.000000     1.000000   0.066454   0.067031  0.064720   \n",
       "\n",
       "            Adj. Close       Adj. Volume  \n",
       "Date                                      \n",
       "1986-03-13    0.064720 1031788800.000000  \n",
       "1986-03-14    0.067031  308160000.000000  \n",
       "1986-03-17    0.068187  133171200.000000  \n",
       "1986-03-18    0.066454   67766400.000000  \n",
       "1986-03-19    0.065298   47894400.000000  "
      ]
     },
     "execution_count": 36,
     "metadata": {},
     "output_type": "execute_result"
    }
   ],
   "source": [
    "data1 = q.get('WIKI/' 'MSFT') # Getting Microsoft dataset\n",
    "data1.head()"
   ]
  },
  {
   "cell_type": "code",
   "execution_count": 37,
   "id": "26b021c9",
   "metadata": {
    "colab": {
     "base_uri": "https://localhost:8080/",
     "height": 238
    },
    "id": "26b021c9",
    "outputId": "8c98f9bb-7b2e-4e97-d697-ef847f7c88cc"
   },
   "outputs": [
    {
     "data": {
      "text/html": [
       "<div>\n",
       "<style scoped>\n",
       "    .dataframe tbody tr th:only-of-type {\n",
       "        vertical-align: middle;\n",
       "    }\n",
       "\n",
       "    .dataframe tbody tr th {\n",
       "        vertical-align: top;\n",
       "    }\n",
       "\n",
       "    .dataframe thead th {\n",
       "        text-align: right;\n",
       "    }\n",
       "</style>\n",
       "<table border=\"1\" class=\"dataframe\">\n",
       "  <thead>\n",
       "    <tr style=\"text-align: right;\">\n",
       "      <th></th>\n",
       "      <th>Open</th>\n",
       "      <th>High</th>\n",
       "      <th>Low</th>\n",
       "      <th>Close</th>\n",
       "      <th>Volume</th>\n",
       "      <th>Ex-Dividend</th>\n",
       "      <th>Split Ratio</th>\n",
       "      <th>Adj. Open</th>\n",
       "      <th>Adj. High</th>\n",
       "      <th>Adj. Low</th>\n",
       "      <th>Adj. Close</th>\n",
       "      <th>Adj. Volume</th>\n",
       "    </tr>\n",
       "    <tr>\n",
       "      <th>Date</th>\n",
       "      <th></th>\n",
       "      <th></th>\n",
       "      <th></th>\n",
       "      <th></th>\n",
       "      <th></th>\n",
       "      <th></th>\n",
       "      <th></th>\n",
       "      <th></th>\n",
       "      <th></th>\n",
       "      <th></th>\n",
       "      <th></th>\n",
       "      <th></th>\n",
       "    </tr>\n",
       "  </thead>\n",
       "  <tbody>\n",
       "    <tr>\n",
       "      <th>1962-01-02</th>\n",
       "      <td>578.500000</td>\n",
       "      <td>578.500000</td>\n",
       "      <td>572.000000</td>\n",
       "      <td>572.000000</td>\n",
       "      <td>19360.000000</td>\n",
       "      <td>0.000000</td>\n",
       "      <td>1.000000</td>\n",
       "      <td>15.270839</td>\n",
       "      <td>15.270839</td>\n",
       "      <td>15.099257</td>\n",
       "      <td>15.099257</td>\n",
       "      <td>387200.000000</td>\n",
       "    </tr>\n",
       "    <tr>\n",
       "      <th>1962-01-03</th>\n",
       "      <td>572.000000</td>\n",
       "      <td>577.000000</td>\n",
       "      <td>572.000000</td>\n",
       "      <td>577.000000</td>\n",
       "      <td>14400.000000</td>\n",
       "      <td>0.000000</td>\n",
       "      <td>1.000000</td>\n",
       "      <td>15.099257</td>\n",
       "      <td>15.231243</td>\n",
       "      <td>15.099257</td>\n",
       "      <td>15.231243</td>\n",
       "      <td>288000.000000</td>\n",
       "    </tr>\n",
       "    <tr>\n",
       "      <th>1962-01-04</th>\n",
       "      <td>577.000000</td>\n",
       "      <td>577.000000</td>\n",
       "      <td>571.000000</td>\n",
       "      <td>571.250000</td>\n",
       "      <td>12800.000000</td>\n",
       "      <td>0.000000</td>\n",
       "      <td>1.000000</td>\n",
       "      <td>15.231243</td>\n",
       "      <td>15.231243</td>\n",
       "      <td>15.072860</td>\n",
       "      <td>15.079459</td>\n",
       "      <td>256000.000000</td>\n",
       "    </tr>\n",
       "    <tr>\n",
       "      <th>1962-01-05</th>\n",
       "      <td>570.500000</td>\n",
       "      <td>570.500000</td>\n",
       "      <td>559.000000</td>\n",
       "      <td>560.000000</td>\n",
       "      <td>18160.000000</td>\n",
       "      <td>0.000000</td>\n",
       "      <td>1.000000</td>\n",
       "      <td>15.059661</td>\n",
       "      <td>15.059661</td>\n",
       "      <td>14.756092</td>\n",
       "      <td>14.782489</td>\n",
       "      <td>363200.000000</td>\n",
       "    </tr>\n",
       "    <tr>\n",
       "      <th>1962-01-08</th>\n",
       "      <td>559.500000</td>\n",
       "      <td>559.500000</td>\n",
       "      <td>545.000000</td>\n",
       "      <td>549.500000</td>\n",
       "      <td>27200.000000</td>\n",
       "      <td>0.000000</td>\n",
       "      <td>1.000000</td>\n",
       "      <td>14.769291</td>\n",
       "      <td>14.769291</td>\n",
       "      <td>14.386530</td>\n",
       "      <td>14.505318</td>\n",
       "      <td>544000.000000</td>\n",
       "    </tr>\n",
       "  </tbody>\n",
       "</table>\n",
       "</div>"
      ],
      "text/plain": [
       "                 Open       High        Low      Close       Volume  \\\n",
       "Date                                                                  \n",
       "1962-01-02 578.500000 578.500000 572.000000 572.000000 19360.000000   \n",
       "1962-01-03 572.000000 577.000000 572.000000 577.000000 14400.000000   \n",
       "1962-01-04 577.000000 577.000000 571.000000 571.250000 12800.000000   \n",
       "1962-01-05 570.500000 570.500000 559.000000 560.000000 18160.000000   \n",
       "1962-01-08 559.500000 559.500000 545.000000 549.500000 27200.000000   \n",
       "\n",
       "            Ex-Dividend  Split Ratio  Adj. Open  Adj. High  Adj. Low  \\\n",
       "Date                                                                   \n",
       "1962-01-02     0.000000     1.000000  15.270839  15.270839 15.099257   \n",
       "1962-01-03     0.000000     1.000000  15.099257  15.231243 15.099257   \n",
       "1962-01-04     0.000000     1.000000  15.231243  15.231243 15.072860   \n",
       "1962-01-05     0.000000     1.000000  15.059661  15.059661 14.756092   \n",
       "1962-01-08     0.000000     1.000000  14.769291  14.769291 14.386530   \n",
       "\n",
       "            Adj. Close   Adj. Volume  \n",
       "Date                                  \n",
       "1962-01-02   15.099257 387200.000000  \n",
       "1962-01-03   15.231243 288000.000000  \n",
       "1962-01-04   15.079459 256000.000000  \n",
       "1962-01-05   14.782489 363200.000000  \n",
       "1962-01-08   14.505318 544000.000000  "
      ]
     },
     "execution_count": 37,
     "metadata": {},
     "output_type": "execute_result"
    }
   ],
   "source": [
    "data2 = q.get('WIKI/' 'IBM') # Getting Microsoft dataset\n",
    "data2.head()"
   ]
  },
  {
   "cell_type": "markdown",
   "id": "8813a411",
   "metadata": {
    "id": "8813a411"
   },
   "source": [
    "- The date column is showing as the index of the dataset. Later, we will reset the index of the dataset.\n",
    "\n",
    "- The two columns that we are concentrating for our analysis: The Open and the Close columns.\n",
    "\n",
    "- Let's first reset the index of the data set and save each dataset as a CSV.\n",
    "\n",
    "- The start date for IBM stock prices on January 2, 1962 in comparison to Microsoft March 13, 1986. I am going to recreate the IBM where it shows stock prices from March 13, 1986 forward."
   ]
  },
  {
   "cell_type": "code",
   "execution_count": 38,
   "id": "9c0a5507",
   "metadata": {
    "colab": {
     "base_uri": "https://localhost:8080/",
     "height": 238
    },
    "id": "9c0a5507",
    "outputId": "3f7af01f-5852-4569-94ba-3172533af327"
   },
   "outputs": [
    {
     "data": {
      "text/html": [
       "<div>\n",
       "<style scoped>\n",
       "    .dataframe tbody tr th:only-of-type {\n",
       "        vertical-align: middle;\n",
       "    }\n",
       "\n",
       "    .dataframe tbody tr th {\n",
       "        vertical-align: top;\n",
       "    }\n",
       "\n",
       "    .dataframe thead th {\n",
       "        text-align: right;\n",
       "    }\n",
       "</style>\n",
       "<table border=\"1\" class=\"dataframe\">\n",
       "  <thead>\n",
       "    <tr style=\"text-align: right;\">\n",
       "      <th></th>\n",
       "      <th>Open</th>\n",
       "      <th>High</th>\n",
       "      <th>Low</th>\n",
       "      <th>Close</th>\n",
       "      <th>Volume</th>\n",
       "      <th>Ex-Dividend</th>\n",
       "      <th>Split Ratio</th>\n",
       "      <th>Adj. Open</th>\n",
       "      <th>Adj. High</th>\n",
       "      <th>Adj. Low</th>\n",
       "      <th>Adj. Close</th>\n",
       "      <th>Adj. Volume</th>\n",
       "    </tr>\n",
       "    <tr>\n",
       "      <th>Date</th>\n",
       "      <th></th>\n",
       "      <th></th>\n",
       "      <th></th>\n",
       "      <th></th>\n",
       "      <th></th>\n",
       "      <th></th>\n",
       "      <th></th>\n",
       "      <th></th>\n",
       "      <th></th>\n",
       "      <th></th>\n",
       "      <th></th>\n",
       "      <th></th>\n",
       "    </tr>\n",
       "  </thead>\n",
       "  <tbody>\n",
       "    <tr>\n",
       "      <th>1986-03-13</th>\n",
       "      <td>148.380000</td>\n",
       "      <td>150.880000</td>\n",
       "      <td>147.750000</td>\n",
       "      <td>150.500000</td>\n",
       "      <td>2084900.000000</td>\n",
       "      <td>0.000000</td>\n",
       "      <td>1.000000</td>\n",
       "      <td>19.584159</td>\n",
       "      <td>19.914125</td>\n",
       "      <td>19.501007</td>\n",
       "      <td>19.863970</td>\n",
       "      <td>8339600.000000</td>\n",
       "    </tr>\n",
       "    <tr>\n",
       "      <th>1986-03-14</th>\n",
       "      <td>150.750000</td>\n",
       "      <td>151.500000</td>\n",
       "      <td>148.000000</td>\n",
       "      <td>150.380000</td>\n",
       "      <td>2512400.000000</td>\n",
       "      <td>0.000000</td>\n",
       "      <td>1.000000</td>\n",
       "      <td>19.896967</td>\n",
       "      <td>19.995957</td>\n",
       "      <td>19.534004</td>\n",
       "      <td>19.848132</td>\n",
       "      <td>10049600.000000</td>\n",
       "    </tr>\n",
       "    <tr>\n",
       "      <th>1986-03-17</th>\n",
       "      <td>149.750000</td>\n",
       "      <td>151.000000</td>\n",
       "      <td>149.500000</td>\n",
       "      <td>150.880000</td>\n",
       "      <td>1927700.000000</td>\n",
       "      <td>0.000000</td>\n",
       "      <td>1.000000</td>\n",
       "      <td>19.764980</td>\n",
       "      <td>19.929963</td>\n",
       "      <td>19.731984</td>\n",
       "      <td>19.914125</td>\n",
       "      <td>7710800.000000</td>\n",
       "    </tr>\n",
       "    <tr>\n",
       "      <th>1986-03-18</th>\n",
       "      <td>150.880000</td>\n",
       "      <td>153.500000</td>\n",
       "      <td>150.750000</td>\n",
       "      <td>152.380000</td>\n",
       "      <td>1816700.000000</td>\n",
       "      <td>0.000000</td>\n",
       "      <td>1.000000</td>\n",
       "      <td>19.914125</td>\n",
       "      <td>20.259930</td>\n",
       "      <td>19.896967</td>\n",
       "      <td>20.112105</td>\n",
       "      <td>7266800.000000</td>\n",
       "    </tr>\n",
       "    <tr>\n",
       "      <th>1986-03-19</th>\n",
       "      <td>152.380000</td>\n",
       "      <td>152.380000</td>\n",
       "      <td>150.250000</td>\n",
       "      <td>151.630000</td>\n",
       "      <td>1304600.000000</td>\n",
       "      <td>0.000000</td>\n",
       "      <td>1.000000</td>\n",
       "      <td>20.112105</td>\n",
       "      <td>20.112105</td>\n",
       "      <td>19.830973</td>\n",
       "      <td>20.013115</td>\n",
       "      <td>5218400.000000</td>\n",
       "    </tr>\n",
       "  </tbody>\n",
       "</table>\n",
       "</div>"
      ],
      "text/plain": [
       "                 Open       High        Low      Close         Volume  \\\n",
       "Date                                                                    \n",
       "1986-03-13 148.380000 150.880000 147.750000 150.500000 2084900.000000   \n",
       "1986-03-14 150.750000 151.500000 148.000000 150.380000 2512400.000000   \n",
       "1986-03-17 149.750000 151.000000 149.500000 150.880000 1927700.000000   \n",
       "1986-03-18 150.880000 153.500000 150.750000 152.380000 1816700.000000   \n",
       "1986-03-19 152.380000 152.380000 150.250000 151.630000 1304600.000000   \n",
       "\n",
       "            Ex-Dividend  Split Ratio  Adj. Open  Adj. High  Adj. Low  \\\n",
       "Date                                                                   \n",
       "1986-03-13     0.000000     1.000000  19.584159  19.914125 19.501007   \n",
       "1986-03-14     0.000000     1.000000  19.896967  19.995957 19.534004   \n",
       "1986-03-17     0.000000     1.000000  19.764980  19.929963 19.731984   \n",
       "1986-03-18     0.000000     1.000000  19.914125  20.259930 19.896967   \n",
       "1986-03-19     0.000000     1.000000  20.112105  20.112105 19.830973   \n",
       "\n",
       "            Adj. Close     Adj. Volume  \n",
       "Date                                    \n",
       "1986-03-13   19.863970  8339600.000000  \n",
       "1986-03-14   19.848132 10049600.000000  \n",
       "1986-03-17   19.914125  7710800.000000  \n",
       "1986-03-18   20.112105  7266800.000000  \n",
       "1986-03-19   20.013115  5218400.000000  "
      ]
     },
     "execution_count": 38,
     "metadata": {},
     "output_type": "execute_result"
    }
   ],
   "source": [
    "# Recreating IBM dataset showing stock prices starting March 13, 1986.\n",
    "df = data2.loc['1986-03-13':, :]\n",
    "df.head()\n"
   ]
  },
  {
   "cell_type": "markdown",
   "id": "231f2d56",
   "metadata": {
    "id": "231f2d56"
   },
   "source": [
    "- Now, IBM is only showing stock prices starting on March 13, 1986.\n",
    "- Let's reset the index for each dataset."
   ]
  },
  {
   "cell_type": "code",
   "execution_count": 39,
   "id": "73e4bdd0",
   "metadata": {
    "colab": {
     "base_uri": "https://localhost:8080/",
     "height": 206
    },
    "id": "73e4bdd0",
    "outputId": "d44b009d-70b3-4bbc-fd0b-041a39eef083"
   },
   "outputs": [
    {
     "data": {
      "text/html": [
       "<div>\n",
       "<style scoped>\n",
       "    .dataframe tbody tr th:only-of-type {\n",
       "        vertical-align: middle;\n",
       "    }\n",
       "\n",
       "    .dataframe tbody tr th {\n",
       "        vertical-align: top;\n",
       "    }\n",
       "\n",
       "    .dataframe thead th {\n",
       "        text-align: right;\n",
       "    }\n",
       "</style>\n",
       "<table border=\"1\" class=\"dataframe\">\n",
       "  <thead>\n",
       "    <tr style=\"text-align: right;\">\n",
       "      <th></th>\n",
       "      <th>Date</th>\n",
       "      <th>Open</th>\n",
       "      <th>High</th>\n",
       "      <th>Low</th>\n",
       "      <th>Close</th>\n",
       "      <th>Volume</th>\n",
       "      <th>Ex-Dividend</th>\n",
       "      <th>Split Ratio</th>\n",
       "      <th>Adj. Open</th>\n",
       "      <th>Adj. High</th>\n",
       "      <th>Adj. Low</th>\n",
       "      <th>Adj. Close</th>\n",
       "      <th>Adj. Volume</th>\n",
       "    </tr>\n",
       "  </thead>\n",
       "  <tbody>\n",
       "    <tr>\n",
       "      <th>0</th>\n",
       "      <td>1986-03-13</td>\n",
       "      <td>25.500000</td>\n",
       "      <td>29.250000</td>\n",
       "      <td>25.500000</td>\n",
       "      <td>28.000000</td>\n",
       "      <td>3582600.000000</td>\n",
       "      <td>0.000000</td>\n",
       "      <td>1.000000</td>\n",
       "      <td>0.058941</td>\n",
       "      <td>0.067609</td>\n",
       "      <td>0.058941</td>\n",
       "      <td>0.064720</td>\n",
       "      <td>1031788800.000000</td>\n",
       "    </tr>\n",
       "    <tr>\n",
       "      <th>1</th>\n",
       "      <td>1986-03-14</td>\n",
       "      <td>28.000000</td>\n",
       "      <td>29.500000</td>\n",
       "      <td>28.000000</td>\n",
       "      <td>29.000000</td>\n",
       "      <td>1070000.000000</td>\n",
       "      <td>0.000000</td>\n",
       "      <td>1.000000</td>\n",
       "      <td>0.064720</td>\n",
       "      <td>0.068187</td>\n",
       "      <td>0.064720</td>\n",
       "      <td>0.067031</td>\n",
       "      <td>308160000.000000</td>\n",
       "    </tr>\n",
       "    <tr>\n",
       "      <th>2</th>\n",
       "      <td>1986-03-17</td>\n",
       "      <td>29.000000</td>\n",
       "      <td>29.750000</td>\n",
       "      <td>29.000000</td>\n",
       "      <td>29.500000</td>\n",
       "      <td>462400.000000</td>\n",
       "      <td>0.000000</td>\n",
       "      <td>1.000000</td>\n",
       "      <td>0.067031</td>\n",
       "      <td>0.068765</td>\n",
       "      <td>0.067031</td>\n",
       "      <td>0.068187</td>\n",
       "      <td>133171200.000000</td>\n",
       "    </tr>\n",
       "    <tr>\n",
       "      <th>3</th>\n",
       "      <td>1986-03-18</td>\n",
       "      <td>29.500000</td>\n",
       "      <td>29.750000</td>\n",
       "      <td>28.500000</td>\n",
       "      <td>28.750000</td>\n",
       "      <td>235300.000000</td>\n",
       "      <td>0.000000</td>\n",
       "      <td>1.000000</td>\n",
       "      <td>0.068187</td>\n",
       "      <td>0.068765</td>\n",
       "      <td>0.065876</td>\n",
       "      <td>0.066454</td>\n",
       "      <td>67766400.000000</td>\n",
       "    </tr>\n",
       "    <tr>\n",
       "      <th>4</th>\n",
       "      <td>1986-03-19</td>\n",
       "      <td>28.750000</td>\n",
       "      <td>29.000000</td>\n",
       "      <td>28.000000</td>\n",
       "      <td>28.250000</td>\n",
       "      <td>166300.000000</td>\n",
       "      <td>0.000000</td>\n",
       "      <td>1.000000</td>\n",
       "      <td>0.066454</td>\n",
       "      <td>0.067031</td>\n",
       "      <td>0.064720</td>\n",
       "      <td>0.065298</td>\n",
       "      <td>47894400.000000</td>\n",
       "    </tr>\n",
       "  </tbody>\n",
       "</table>\n",
       "</div>"
      ],
      "text/plain": [
       "        Date      Open      High       Low     Close         Volume  \\\n",
       "0 1986-03-13 25.500000 29.250000 25.500000 28.000000 3582600.000000   \n",
       "1 1986-03-14 28.000000 29.500000 28.000000 29.000000 1070000.000000   \n",
       "2 1986-03-17 29.000000 29.750000 29.000000 29.500000  462400.000000   \n",
       "3 1986-03-18 29.500000 29.750000 28.500000 28.750000  235300.000000   \n",
       "4 1986-03-19 28.750000 29.000000 28.000000 28.250000  166300.000000   \n",
       "\n",
       "   Ex-Dividend  Split Ratio  Adj. Open  Adj. High  Adj. Low  Adj. Close  \\\n",
       "0     0.000000     1.000000   0.058941   0.067609  0.058941    0.064720   \n",
       "1     0.000000     1.000000   0.064720   0.068187  0.064720    0.067031   \n",
       "2     0.000000     1.000000   0.067031   0.068765  0.067031    0.068187   \n",
       "3     0.000000     1.000000   0.068187   0.068765  0.065876    0.066454   \n",
       "4     0.000000     1.000000   0.066454   0.067031  0.064720    0.065298   \n",
       "\n",
       "        Adj. Volume  \n",
       "0 1031788800.000000  \n",
       "1  308160000.000000  \n",
       "2  133171200.000000  \n",
       "3   67766400.000000  \n",
       "4   47894400.000000  "
      ]
     },
     "execution_count": 39,
     "metadata": {},
     "output_type": "execute_result"
    }
   ],
   "source": [
    "data1.reset_index(inplace=True)\n",
    "data1.head()"
   ]
  },
  {
   "cell_type": "code",
   "execution_count": 40,
   "id": "15a0f14a",
   "metadata": {
    "colab": {
     "base_uri": "https://localhost:8080/",
     "height": 206
    },
    "id": "15a0f14a",
    "outputId": "0e667fc0-13aa-429f-c5b4-ca12bc1ef5ed"
   },
   "outputs": [
    {
     "data": {
      "text/html": [
       "<div>\n",
       "<style scoped>\n",
       "    .dataframe tbody tr th:only-of-type {\n",
       "        vertical-align: middle;\n",
       "    }\n",
       "\n",
       "    .dataframe tbody tr th {\n",
       "        vertical-align: top;\n",
       "    }\n",
       "\n",
       "    .dataframe thead th {\n",
       "        text-align: right;\n",
       "    }\n",
       "</style>\n",
       "<table border=\"1\" class=\"dataframe\">\n",
       "  <thead>\n",
       "    <tr style=\"text-align: right;\">\n",
       "      <th></th>\n",
       "      <th>Date</th>\n",
       "      <th>Open</th>\n",
       "      <th>High</th>\n",
       "      <th>Low</th>\n",
       "      <th>Close</th>\n",
       "      <th>Volume</th>\n",
       "      <th>Ex-Dividend</th>\n",
       "      <th>Split Ratio</th>\n",
       "      <th>Adj. Open</th>\n",
       "      <th>Adj. High</th>\n",
       "      <th>Adj. Low</th>\n",
       "      <th>Adj. Close</th>\n",
       "      <th>Adj. Volume</th>\n",
       "    </tr>\n",
       "  </thead>\n",
       "  <tbody>\n",
       "    <tr>\n",
       "      <th>0</th>\n",
       "      <td>1986-03-13</td>\n",
       "      <td>148.380000</td>\n",
       "      <td>150.880000</td>\n",
       "      <td>147.750000</td>\n",
       "      <td>150.500000</td>\n",
       "      <td>2084900.000000</td>\n",
       "      <td>0.000000</td>\n",
       "      <td>1.000000</td>\n",
       "      <td>19.584159</td>\n",
       "      <td>19.914125</td>\n",
       "      <td>19.501007</td>\n",
       "      <td>19.863970</td>\n",
       "      <td>8339600.000000</td>\n",
       "    </tr>\n",
       "    <tr>\n",
       "      <th>1</th>\n",
       "      <td>1986-03-14</td>\n",
       "      <td>150.750000</td>\n",
       "      <td>151.500000</td>\n",
       "      <td>148.000000</td>\n",
       "      <td>150.380000</td>\n",
       "      <td>2512400.000000</td>\n",
       "      <td>0.000000</td>\n",
       "      <td>1.000000</td>\n",
       "      <td>19.896967</td>\n",
       "      <td>19.995957</td>\n",
       "      <td>19.534004</td>\n",
       "      <td>19.848132</td>\n",
       "      <td>10049600.000000</td>\n",
       "    </tr>\n",
       "    <tr>\n",
       "      <th>2</th>\n",
       "      <td>1986-03-17</td>\n",
       "      <td>149.750000</td>\n",
       "      <td>151.000000</td>\n",
       "      <td>149.500000</td>\n",
       "      <td>150.880000</td>\n",
       "      <td>1927700.000000</td>\n",
       "      <td>0.000000</td>\n",
       "      <td>1.000000</td>\n",
       "      <td>19.764980</td>\n",
       "      <td>19.929963</td>\n",
       "      <td>19.731984</td>\n",
       "      <td>19.914125</td>\n",
       "      <td>7710800.000000</td>\n",
       "    </tr>\n",
       "    <tr>\n",
       "      <th>3</th>\n",
       "      <td>1986-03-18</td>\n",
       "      <td>150.880000</td>\n",
       "      <td>153.500000</td>\n",
       "      <td>150.750000</td>\n",
       "      <td>152.380000</td>\n",
       "      <td>1816700.000000</td>\n",
       "      <td>0.000000</td>\n",
       "      <td>1.000000</td>\n",
       "      <td>19.914125</td>\n",
       "      <td>20.259930</td>\n",
       "      <td>19.896967</td>\n",
       "      <td>20.112105</td>\n",
       "      <td>7266800.000000</td>\n",
       "    </tr>\n",
       "    <tr>\n",
       "      <th>4</th>\n",
       "      <td>1986-03-19</td>\n",
       "      <td>152.380000</td>\n",
       "      <td>152.380000</td>\n",
       "      <td>150.250000</td>\n",
       "      <td>151.630000</td>\n",
       "      <td>1304600.000000</td>\n",
       "      <td>0.000000</td>\n",
       "      <td>1.000000</td>\n",
       "      <td>20.112105</td>\n",
       "      <td>20.112105</td>\n",
       "      <td>19.830973</td>\n",
       "      <td>20.013115</td>\n",
       "      <td>5218400.000000</td>\n",
       "    </tr>\n",
       "  </tbody>\n",
       "</table>\n",
       "</div>"
      ],
      "text/plain": [
       "        Date       Open       High        Low      Close         Volume  \\\n",
       "0 1986-03-13 148.380000 150.880000 147.750000 150.500000 2084900.000000   \n",
       "1 1986-03-14 150.750000 151.500000 148.000000 150.380000 2512400.000000   \n",
       "2 1986-03-17 149.750000 151.000000 149.500000 150.880000 1927700.000000   \n",
       "3 1986-03-18 150.880000 153.500000 150.750000 152.380000 1816700.000000   \n",
       "4 1986-03-19 152.380000 152.380000 150.250000 151.630000 1304600.000000   \n",
       "\n",
       "   Ex-Dividend  Split Ratio  Adj. Open  Adj. High  Adj. Low  Adj. Close  \\\n",
       "0     0.000000     1.000000  19.584159  19.914125 19.501007   19.863970   \n",
       "1     0.000000     1.000000  19.896967  19.995957 19.534004   19.848132   \n",
       "2     0.000000     1.000000  19.764980  19.929963 19.731984   19.914125   \n",
       "3     0.000000     1.000000  19.914125  20.259930 19.896967   20.112105   \n",
       "4     0.000000     1.000000  20.112105  20.112105 19.830973   20.013115   \n",
       "\n",
       "      Adj. Volume  \n",
       "0  8339600.000000  \n",
       "1 10049600.000000  \n",
       "2  7710800.000000  \n",
       "3  7266800.000000  \n",
       "4  5218400.000000  "
      ]
     },
     "execution_count": 40,
     "metadata": {},
     "output_type": "execute_result"
    }
   ],
   "source": [
    "df.reset_index(inplace=True)\n",
    "df.head()"
   ]
  },
  {
   "cell_type": "markdown",
   "id": "ce367bcd",
   "metadata": {
    "id": "ce367bcd"
   },
   "source": [
    "#### Let's know read the CSV for each data set."
   ]
  },
  {
   "cell_type": "code",
   "execution_count": 41,
   "id": "debfd15c",
   "metadata": {
    "id": "debfd15c"
   },
   "outputs": [],
   "source": [
    "data1.to_csv('MSFT.csv', index=False) #converting into a CSV file"
   ]
  },
  {
   "cell_type": "code",
   "execution_count": 42,
   "id": "6c03113c",
   "metadata": {
    "id": "6c03113c"
   },
   "outputs": [],
   "source": [
    "df.to_csv('IBM.csv', index=False) #converting into a CSV file"
   ]
  },
  {
   "cell_type": "markdown",
   "id": "bd389cbc",
   "metadata": {
    "id": "bd389cbc"
   },
   "source": [
    "#### Let's know read the CSV for each data set."
   ]
  },
  {
   "cell_type": "code",
   "execution_count": 43,
   "id": "34171ee5",
   "metadata": {
    "colab": {
     "base_uri": "https://localhost:8080/",
     "height": 206
    },
    "id": "34171ee5",
    "outputId": "d3285a13-4cd4-46e6-a0d7-5edfe02b242f"
   },
   "outputs": [
    {
     "data": {
      "text/html": [
       "<div>\n",
       "<style scoped>\n",
       "    .dataframe tbody tr th:only-of-type {\n",
       "        vertical-align: middle;\n",
       "    }\n",
       "\n",
       "    .dataframe tbody tr th {\n",
       "        vertical-align: top;\n",
       "    }\n",
       "\n",
       "    .dataframe thead th {\n",
       "        text-align: right;\n",
       "    }\n",
       "</style>\n",
       "<table border=\"1\" class=\"dataframe\">\n",
       "  <thead>\n",
       "    <tr style=\"text-align: right;\">\n",
       "      <th></th>\n",
       "      <th>Date</th>\n",
       "      <th>Open</th>\n",
       "      <th>High</th>\n",
       "      <th>Low</th>\n",
       "      <th>Close</th>\n",
       "      <th>Volume</th>\n",
       "      <th>Ex-Dividend</th>\n",
       "      <th>Split Ratio</th>\n",
       "      <th>Adj. Open</th>\n",
       "      <th>Adj. High</th>\n",
       "      <th>Adj. Low</th>\n",
       "      <th>Adj. Close</th>\n",
       "      <th>Adj. Volume</th>\n",
       "    </tr>\n",
       "  </thead>\n",
       "  <tbody>\n",
       "    <tr>\n",
       "      <th>0</th>\n",
       "      <td>1986-03-13</td>\n",
       "      <td>25.500000</td>\n",
       "      <td>29.250000</td>\n",
       "      <td>25.500000</td>\n",
       "      <td>28.000000</td>\n",
       "      <td>3582600.000000</td>\n",
       "      <td>0.000000</td>\n",
       "      <td>1.000000</td>\n",
       "      <td>0.058941</td>\n",
       "      <td>0.067609</td>\n",
       "      <td>0.058941</td>\n",
       "      <td>0.064720</td>\n",
       "      <td>1031788800.000000</td>\n",
       "    </tr>\n",
       "    <tr>\n",
       "      <th>1</th>\n",
       "      <td>1986-03-14</td>\n",
       "      <td>28.000000</td>\n",
       "      <td>29.500000</td>\n",
       "      <td>28.000000</td>\n",
       "      <td>29.000000</td>\n",
       "      <td>1070000.000000</td>\n",
       "      <td>0.000000</td>\n",
       "      <td>1.000000</td>\n",
       "      <td>0.064720</td>\n",
       "      <td>0.068187</td>\n",
       "      <td>0.064720</td>\n",
       "      <td>0.067031</td>\n",
       "      <td>308160000.000000</td>\n",
       "    </tr>\n",
       "    <tr>\n",
       "      <th>2</th>\n",
       "      <td>1986-03-17</td>\n",
       "      <td>29.000000</td>\n",
       "      <td>29.750000</td>\n",
       "      <td>29.000000</td>\n",
       "      <td>29.500000</td>\n",
       "      <td>462400.000000</td>\n",
       "      <td>0.000000</td>\n",
       "      <td>1.000000</td>\n",
       "      <td>0.067031</td>\n",
       "      <td>0.068765</td>\n",
       "      <td>0.067031</td>\n",
       "      <td>0.068187</td>\n",
       "      <td>133171200.000000</td>\n",
       "    </tr>\n",
       "    <tr>\n",
       "      <th>3</th>\n",
       "      <td>1986-03-18</td>\n",
       "      <td>29.500000</td>\n",
       "      <td>29.750000</td>\n",
       "      <td>28.500000</td>\n",
       "      <td>28.750000</td>\n",
       "      <td>235300.000000</td>\n",
       "      <td>0.000000</td>\n",
       "      <td>1.000000</td>\n",
       "      <td>0.068187</td>\n",
       "      <td>0.068765</td>\n",
       "      <td>0.065876</td>\n",
       "      <td>0.066454</td>\n",
       "      <td>67766400.000000</td>\n",
       "    </tr>\n",
       "    <tr>\n",
       "      <th>4</th>\n",
       "      <td>1986-03-19</td>\n",
       "      <td>28.750000</td>\n",
       "      <td>29.000000</td>\n",
       "      <td>28.000000</td>\n",
       "      <td>28.250000</td>\n",
       "      <td>166300.000000</td>\n",
       "      <td>0.000000</td>\n",
       "      <td>1.000000</td>\n",
       "      <td>0.066454</td>\n",
       "      <td>0.067031</td>\n",
       "      <td>0.064720</td>\n",
       "      <td>0.065298</td>\n",
       "      <td>47894400.000000</td>\n",
       "    </tr>\n",
       "  </tbody>\n",
       "</table>\n",
       "</div>"
      ],
      "text/plain": [
       "         Date      Open      High       Low     Close         Volume  \\\n",
       "0  1986-03-13 25.500000 29.250000 25.500000 28.000000 3582600.000000   \n",
       "1  1986-03-14 28.000000 29.500000 28.000000 29.000000 1070000.000000   \n",
       "2  1986-03-17 29.000000 29.750000 29.000000 29.500000  462400.000000   \n",
       "3  1986-03-18 29.500000 29.750000 28.500000 28.750000  235300.000000   \n",
       "4  1986-03-19 28.750000 29.000000 28.000000 28.250000  166300.000000   \n",
       "\n",
       "   Ex-Dividend  Split Ratio  Adj. Open  Adj. High  Adj. Low  Adj. Close  \\\n",
       "0     0.000000     1.000000   0.058941   0.067609  0.058941    0.064720   \n",
       "1     0.000000     1.000000   0.064720   0.068187  0.064720    0.067031   \n",
       "2     0.000000     1.000000   0.067031   0.068765  0.067031    0.068187   \n",
       "3     0.000000     1.000000   0.068187   0.068765  0.065876    0.066454   \n",
       "4     0.000000     1.000000   0.066454   0.067031  0.064720    0.065298   \n",
       "\n",
       "        Adj. Volume  \n",
       "0 1031788800.000000  \n",
       "1  308160000.000000  \n",
       "2  133171200.000000  \n",
       "3   67766400.000000  \n",
       "4   47894400.000000  "
      ]
     },
     "execution_count": 43,
     "metadata": {},
     "output_type": "execute_result"
    }
   ],
   "source": [
    "msft = pd.read_csv('MSFT.csv')\n",
    "msft.head()"
   ]
  },
  {
   "cell_type": "code",
   "execution_count": 44,
   "id": "42c2004e",
   "metadata": {
    "colab": {
     "base_uri": "https://localhost:8080/",
     "height": 206
    },
    "id": "42c2004e",
    "outputId": "5e1ac2e5-65f7-45cd-a6fc-d7af222570d6"
   },
   "outputs": [
    {
     "data": {
      "text/html": [
       "<div>\n",
       "<style scoped>\n",
       "    .dataframe tbody tr th:only-of-type {\n",
       "        vertical-align: middle;\n",
       "    }\n",
       "\n",
       "    .dataframe tbody tr th {\n",
       "        vertical-align: top;\n",
       "    }\n",
       "\n",
       "    .dataframe thead th {\n",
       "        text-align: right;\n",
       "    }\n",
       "</style>\n",
       "<table border=\"1\" class=\"dataframe\">\n",
       "  <thead>\n",
       "    <tr style=\"text-align: right;\">\n",
       "      <th></th>\n",
       "      <th>Date</th>\n",
       "      <th>Open</th>\n",
       "      <th>High</th>\n",
       "      <th>Low</th>\n",
       "      <th>Close</th>\n",
       "      <th>Volume</th>\n",
       "      <th>Ex-Dividend</th>\n",
       "      <th>Split Ratio</th>\n",
       "      <th>Adj. Open</th>\n",
       "      <th>Adj. High</th>\n",
       "      <th>Adj. Low</th>\n",
       "      <th>Adj. Close</th>\n",
       "      <th>Adj. Volume</th>\n",
       "    </tr>\n",
       "  </thead>\n",
       "  <tbody>\n",
       "    <tr>\n",
       "      <th>0</th>\n",
       "      <td>1986-03-13</td>\n",
       "      <td>148.380000</td>\n",
       "      <td>150.880000</td>\n",
       "      <td>147.750000</td>\n",
       "      <td>150.500000</td>\n",
       "      <td>2084900.000000</td>\n",
       "      <td>0.000000</td>\n",
       "      <td>1.000000</td>\n",
       "      <td>19.584159</td>\n",
       "      <td>19.914125</td>\n",
       "      <td>19.501007</td>\n",
       "      <td>19.863970</td>\n",
       "      <td>8339600.000000</td>\n",
       "    </tr>\n",
       "    <tr>\n",
       "      <th>1</th>\n",
       "      <td>1986-03-14</td>\n",
       "      <td>150.750000</td>\n",
       "      <td>151.500000</td>\n",
       "      <td>148.000000</td>\n",
       "      <td>150.380000</td>\n",
       "      <td>2512400.000000</td>\n",
       "      <td>0.000000</td>\n",
       "      <td>1.000000</td>\n",
       "      <td>19.896967</td>\n",
       "      <td>19.995957</td>\n",
       "      <td>19.534004</td>\n",
       "      <td>19.848132</td>\n",
       "      <td>10049600.000000</td>\n",
       "    </tr>\n",
       "    <tr>\n",
       "      <th>2</th>\n",
       "      <td>1986-03-17</td>\n",
       "      <td>149.750000</td>\n",
       "      <td>151.000000</td>\n",
       "      <td>149.500000</td>\n",
       "      <td>150.880000</td>\n",
       "      <td>1927700.000000</td>\n",
       "      <td>0.000000</td>\n",
       "      <td>1.000000</td>\n",
       "      <td>19.764980</td>\n",
       "      <td>19.929963</td>\n",
       "      <td>19.731984</td>\n",
       "      <td>19.914125</td>\n",
       "      <td>7710800.000000</td>\n",
       "    </tr>\n",
       "    <tr>\n",
       "      <th>3</th>\n",
       "      <td>1986-03-18</td>\n",
       "      <td>150.880000</td>\n",
       "      <td>153.500000</td>\n",
       "      <td>150.750000</td>\n",
       "      <td>152.380000</td>\n",
       "      <td>1816700.000000</td>\n",
       "      <td>0.000000</td>\n",
       "      <td>1.000000</td>\n",
       "      <td>19.914125</td>\n",
       "      <td>20.259930</td>\n",
       "      <td>19.896967</td>\n",
       "      <td>20.112105</td>\n",
       "      <td>7266800.000000</td>\n",
       "    </tr>\n",
       "    <tr>\n",
       "      <th>4</th>\n",
       "      <td>1986-03-19</td>\n",
       "      <td>152.380000</td>\n",
       "      <td>152.380000</td>\n",
       "      <td>150.250000</td>\n",
       "      <td>151.630000</td>\n",
       "      <td>1304600.000000</td>\n",
       "      <td>0.000000</td>\n",
       "      <td>1.000000</td>\n",
       "      <td>20.112105</td>\n",
       "      <td>20.112105</td>\n",
       "      <td>19.830973</td>\n",
       "      <td>20.013115</td>\n",
       "      <td>5218400.000000</td>\n",
       "    </tr>\n",
       "  </tbody>\n",
       "</table>\n",
       "</div>"
      ],
      "text/plain": [
       "         Date       Open       High        Low      Close         Volume  \\\n",
       "0  1986-03-13 148.380000 150.880000 147.750000 150.500000 2084900.000000   \n",
       "1  1986-03-14 150.750000 151.500000 148.000000 150.380000 2512400.000000   \n",
       "2  1986-03-17 149.750000 151.000000 149.500000 150.880000 1927700.000000   \n",
       "3  1986-03-18 150.880000 153.500000 150.750000 152.380000 1816700.000000   \n",
       "4  1986-03-19 152.380000 152.380000 150.250000 151.630000 1304600.000000   \n",
       "\n",
       "   Ex-Dividend  Split Ratio  Adj. Open  Adj. High  Adj. Low  Adj. Close  \\\n",
       "0     0.000000     1.000000  19.584159  19.914125 19.501007   19.863970   \n",
       "1     0.000000     1.000000  19.896967  19.995957 19.534004   19.848132   \n",
       "2     0.000000     1.000000  19.764980  19.929963 19.731984   19.914125   \n",
       "3     0.000000     1.000000  19.914125  20.259930 19.896967   20.112105   \n",
       "4     0.000000     1.000000  20.112105  20.112105 19.830973   20.013115   \n",
       "\n",
       "      Adj. Volume  \n",
       "0  8339600.000000  \n",
       "1 10049600.000000  \n",
       "2  7710800.000000  \n",
       "3  7266800.000000  \n",
       "4  5218400.000000  "
      ]
     },
     "execution_count": 44,
     "metadata": {},
     "output_type": "execute_result"
    }
   ],
   "source": [
    "ibm = pd.read_csv('IBM.csv')\n",
    "ibm.head()"
   ]
  },
  {
   "cell_type": "markdown",
   "id": "d9e6da59",
   "metadata": {
    "id": "d9e6da59"
   },
   "source": [
    "### Checking the features of each dataset"
   ]
  },
  {
   "cell_type": "code",
   "execution_count": 45,
   "id": "05fa925e",
   "metadata": {
    "colab": {
     "base_uri": "https://localhost:8080/"
    },
    "id": "05fa925e",
    "outputId": "c5945e3e-bdb8-44b0-c91d-b0df6fcfceee"
   },
   "outputs": [
    {
     "name": "stdout",
     "output_type": "stream",
     "text": [
      "Microsoft Rows: 8076 \n",
      "Microsoft Columns:13\n"
     ]
    }
   ],
   "source": [
    "print(f'Microsoft Rows: {msft.shape[0]} \\nMicrosoft Columns:{msft.shape[1]}')"
   ]
  },
  {
   "cell_type": "code",
   "execution_count": 46,
   "id": "7b2f7017",
   "metadata": {
    "colab": {
     "base_uri": "https://localhost:8080/"
    },
    "id": "7b2f7017",
    "outputId": "b963d588-27e9-4db7-bc84-25fa51596e9a"
   },
   "outputs": [
    {
     "name": "stdout",
     "output_type": "stream",
     "text": [
      "IBM Rows: 8076 \n",
      "Microsoft Columns:13\n"
     ]
    }
   ],
   "source": [
    "print(f'IBM Rows: {ibm.shape[0]} \\nMicrosoft Columns:{ibm.shape[1]}')"
   ]
  },
  {
   "cell_type": "code",
   "execution_count": 47,
   "id": "95b51a7d",
   "metadata": {
    "colab": {
     "base_uri": "https://localhost:8080/"
    },
    "id": "95b51a7d",
    "outputId": "ec70a849-8134-4b4d-e28f-346db45f6946"
   },
   "outputs": [
    {
     "name": "stdout",
     "output_type": "stream",
     "text": [
      "<class 'pandas.core.frame.DataFrame'>\n",
      "RangeIndex: 8076 entries, 0 to 8075\n",
      "Data columns (total 13 columns):\n",
      " #   Column       Non-Null Count  Dtype  \n",
      "---  ------       --------------  -----  \n",
      " 0   Date         8076 non-null   object \n",
      " 1   Open         8076 non-null   float64\n",
      " 2   High         8076 non-null   float64\n",
      " 3   Low          8076 non-null   float64\n",
      " 4   Close        8076 non-null   float64\n",
      " 5   Volume       8076 non-null   float64\n",
      " 6   Ex-Dividend  8076 non-null   float64\n",
      " 7   Split Ratio  8076 non-null   float64\n",
      " 8   Adj. Open    8076 non-null   float64\n",
      " 9   Adj. High    8076 non-null   float64\n",
      " 10  Adj. Low     8076 non-null   float64\n",
      " 11  Adj. Close   8076 non-null   float64\n",
      " 12  Adj. Volume  8076 non-null   float64\n",
      "dtypes: float64(12), object(1)\n",
      "memory usage: 820.3+ KB\n"
     ]
    }
   ],
   "source": [
    "#Checking the data types for the IBM dataset.\n",
    "msft.info()"
   ]
  },
  {
   "cell_type": "markdown",
   "id": "d33b6a5e",
   "metadata": {
    "id": "d33b6a5e"
   },
   "source": [
    "- The Microsoft dataset has 12 float and 1 object data types.\n",
    "- It seems that there are not missing values."
   ]
  },
  {
   "cell_type": "code",
   "execution_count": 48,
   "id": "9662e443",
   "metadata": {
    "colab": {
     "base_uri": "https://localhost:8080/",
     "height": 426
    },
    "id": "9662e443",
    "outputId": "5cb7adc9-f71d-473d-d6c4-395bcbbe1374"
   },
   "outputs": [
    {
     "data": {
      "text/html": [
       "<div>\n",
       "<style scoped>\n",
       "    .dataframe tbody tr th:only-of-type {\n",
       "        vertical-align: middle;\n",
       "    }\n",
       "\n",
       "    .dataframe tbody tr th {\n",
       "        vertical-align: top;\n",
       "    }\n",
       "\n",
       "    .dataframe thead th {\n",
       "        text-align: right;\n",
       "    }\n",
       "</style>\n",
       "<table border=\"1\" class=\"dataframe\">\n",
       "  <thead>\n",
       "    <tr style=\"text-align: right;\">\n",
       "      <th></th>\n",
       "      <th>count</th>\n",
       "      <th>mean</th>\n",
       "      <th>std</th>\n",
       "      <th>min</th>\n",
       "      <th>25%</th>\n",
       "      <th>50%</th>\n",
       "      <th>75%</th>\n",
       "      <th>max</th>\n",
       "    </tr>\n",
       "  </thead>\n",
       "  <tbody>\n",
       "    <tr>\n",
       "      <th>Open</th>\n",
       "      <td>8076.000000</td>\n",
       "      <td>59.832154</td>\n",
       "      <td>32.526935</td>\n",
       "      <td>15.200000</td>\n",
       "      <td>28.940000</td>\n",
       "      <td>54.250000</td>\n",
       "      <td>83.750000</td>\n",
       "      <td>178.940000</td>\n",
       "    </tr>\n",
       "    <tr>\n",
       "      <th>High</th>\n",
       "      <td>8076.000000</td>\n",
       "      <td>60.666713</td>\n",
       "      <td>33.033695</td>\n",
       "      <td>15.620000</td>\n",
       "      <td>29.250000</td>\n",
       "      <td>55.005000</td>\n",
       "      <td>84.955000</td>\n",
       "      <td>180.380000</td>\n",
       "    </tr>\n",
       "    <tr>\n",
       "      <th>Low</th>\n",
       "      <td>8076.000000</td>\n",
       "      <td>59.025261</td>\n",
       "      <td>32.017552</td>\n",
       "      <td>14.870000</td>\n",
       "      <td>28.660000</td>\n",
       "      <td>53.500000</td>\n",
       "      <td>82.702500</td>\n",
       "      <td>175.750000</td>\n",
       "    </tr>\n",
       "    <tr>\n",
       "      <th>Close</th>\n",
       "      <td>8076.000000</td>\n",
       "      <td>59.874821</td>\n",
       "      <td>32.562926</td>\n",
       "      <td>15.150000</td>\n",
       "      <td>28.940000</td>\n",
       "      <td>54.250000</td>\n",
       "      <td>83.870000</td>\n",
       "      <td>179.940000</td>\n",
       "    </tr>\n",
       "    <tr>\n",
       "      <th>Volume</th>\n",
       "      <td>8076.000000</td>\n",
       "      <td>31258675.585810</td>\n",
       "      <td>32041253.877836</td>\n",
       "      <td>8000.000000</td>\n",
       "      <td>2370594.500000</td>\n",
       "      <td>26179200.000000</td>\n",
       "      <td>49910175.000000</td>\n",
       "      <td>591052200.000000</td>\n",
       "    </tr>\n",
       "    <tr>\n",
       "      <th>Ex-Dividend</th>\n",
       "      <td>8076.000000</td>\n",
       "      <td>0.001735</td>\n",
       "      <td>0.038948</td>\n",
       "      <td>0.000000</td>\n",
       "      <td>0.000000</td>\n",
       "      <td>0.000000</td>\n",
       "      <td>0.000000</td>\n",
       "      <td>3.080000</td>\n",
       "    </tr>\n",
       "    <tr>\n",
       "      <th>Split Ratio</th>\n",
       "      <td>8076.000000</td>\n",
       "      <td>1.000991</td>\n",
       "      <td>0.030460</td>\n",
       "      <td>1.000000</td>\n",
       "      <td>1.000000</td>\n",
       "      <td>1.000000</td>\n",
       "      <td>1.000000</td>\n",
       "      <td>2.000000</td>\n",
       "    </tr>\n",
       "    <tr>\n",
       "      <th>Adj. Open</th>\n",
       "      <td>8076.000000</td>\n",
       "      <td>18.763583</td>\n",
       "      <td>17.756714</td>\n",
       "      <td>0.058941</td>\n",
       "      <td>1.908662</td>\n",
       "      <td>18.581468</td>\n",
       "      <td>24.045268</td>\n",
       "      <td>97.000000</td>\n",
       "    </tr>\n",
       "    <tr>\n",
       "      <th>Adj. High</th>\n",
       "      <td>8076.000000</td>\n",
       "      <td>18.964604</td>\n",
       "      <td>17.901221</td>\n",
       "      <td>0.061253</td>\n",
       "      <td>1.934665</td>\n",
       "      <td>18.856998</td>\n",
       "      <td>24.273922</td>\n",
       "      <td>97.240000</td>\n",
       "    </tr>\n",
       "    <tr>\n",
       "      <th>Adj. Low</th>\n",
       "      <td>8076.000000</td>\n",
       "      <td>18.564394</td>\n",
       "      <td>17.607812</td>\n",
       "      <td>0.058941</td>\n",
       "      <td>1.882658</td>\n",
       "      <td>18.366597</td>\n",
       "      <td>23.802299</td>\n",
       "      <td>96.040000</td>\n",
       "    </tr>\n",
       "    <tr>\n",
       "      <th>Adj. Close</th>\n",
       "      <td>8076.000000</td>\n",
       "      <td>18.768430</td>\n",
       "      <td>17.760955</td>\n",
       "      <td>0.060097</td>\n",
       "      <td>1.908662</td>\n",
       "      <td>18.594782</td>\n",
       "      <td>24.060766</td>\n",
       "      <td>96.770000</td>\n",
       "    </tr>\n",
       "    <tr>\n",
       "      <th>Adj. Volume</th>\n",
       "      <td>8076.000000</td>\n",
       "      <td>62234895.093115</td>\n",
       "      <td>39095123.759433</td>\n",
       "      <td>2304000.000000</td>\n",
       "      <td>39074057.250000</td>\n",
       "      <td>55313600.000000</td>\n",
       "      <td>75618750.000000</td>\n",
       "      <td>1031788800.000000</td>\n",
       "    </tr>\n",
       "  </tbody>\n",
       "</table>\n",
       "</div>"
      ],
      "text/plain": [
       "                  count            mean             std            min  \\\n",
       "Open        8076.000000       59.832154       32.526935      15.200000   \n",
       "High        8076.000000       60.666713       33.033695      15.620000   \n",
       "Low         8076.000000       59.025261       32.017552      14.870000   \n",
       "Close       8076.000000       59.874821       32.562926      15.150000   \n",
       "Volume      8076.000000 31258675.585810 32041253.877836    8000.000000   \n",
       "Ex-Dividend 8076.000000        0.001735        0.038948       0.000000   \n",
       "Split Ratio 8076.000000        1.000991        0.030460       1.000000   \n",
       "Adj. Open   8076.000000       18.763583       17.756714       0.058941   \n",
       "Adj. High   8076.000000       18.964604       17.901221       0.061253   \n",
       "Adj. Low    8076.000000       18.564394       17.607812       0.058941   \n",
       "Adj. Close  8076.000000       18.768430       17.760955       0.060097   \n",
       "Adj. Volume 8076.000000 62234895.093115 39095123.759433 2304000.000000   \n",
       "\n",
       "                        25%             50%             75%               max  \n",
       "Open              28.940000       54.250000       83.750000        178.940000  \n",
       "High              29.250000       55.005000       84.955000        180.380000  \n",
       "Low               28.660000       53.500000       82.702500        175.750000  \n",
       "Close             28.940000       54.250000       83.870000        179.940000  \n",
       "Volume       2370594.500000 26179200.000000 49910175.000000  591052200.000000  \n",
       "Ex-Dividend        0.000000        0.000000        0.000000          3.080000  \n",
       "Split Ratio        1.000000        1.000000        1.000000          2.000000  \n",
       "Adj. Open          1.908662       18.581468       24.045268         97.000000  \n",
       "Adj. High          1.934665       18.856998       24.273922         97.240000  \n",
       "Adj. Low           1.882658       18.366597       23.802299         96.040000  \n",
       "Adj. Close         1.908662       18.594782       24.060766         96.770000  \n",
       "Adj. Volume 39074057.250000 55313600.000000 75618750.000000 1031788800.000000  "
      ]
     },
     "execution_count": 48,
     "metadata": {},
     "output_type": "execute_result"
    }
   ],
   "source": [
    "#Let's do a statistical summary of the Microsoft dataset.\n",
    "msft.describe().T"
   ]
  },
  {
   "cell_type": "markdown",
   "id": "47c37582",
   "metadata": {
    "id": "47c37582"
   },
   "source": [
    "- Microsoft the average open price is approximately 59.83 with a minimum of 15.20 and a max of 178.94\n",
    "- The average close price is approximately 59.88 with a minimum of 15.15 and the highest price of 179.94.\n",
    "- Let’s check the data types for the IBM dataset."
   ]
  },
  {
   "cell_type": "code",
   "execution_count": 49,
   "id": "7874bc2d",
   "metadata": {
    "colab": {
     "base_uri": "https://localhost:8080/"
    },
    "id": "7874bc2d",
    "outputId": "7c461c3c-76f3-4a81-cc59-fa3311a523a1"
   },
   "outputs": [
    {
     "name": "stdout",
     "output_type": "stream",
     "text": [
      "<class 'pandas.core.frame.DataFrame'>\n",
      "RangeIndex: 8076 entries, 0 to 8075\n",
      "Data columns (total 13 columns):\n",
      " #   Column       Non-Null Count  Dtype  \n",
      "---  ------       --------------  -----  \n",
      " 0   Date         8076 non-null   object \n",
      " 1   Open         8076 non-null   float64\n",
      " 2   High         8076 non-null   float64\n",
      " 3   Low          8076 non-null   float64\n",
      " 4   Close        8076 non-null   float64\n",
      " 5   Volume       8076 non-null   float64\n",
      " 6   Ex-Dividend  8076 non-null   float64\n",
      " 7   Split Ratio  8076 non-null   float64\n",
      " 8   Adj. Open    8076 non-null   float64\n",
      " 9   Adj. High    8076 non-null   float64\n",
      " 10  Adj. Low     8076 non-null   float64\n",
      " 11  Adj. Close   8076 non-null   float64\n",
      " 12  Adj. Volume  8076 non-null   float64\n",
      "dtypes: float64(12), object(1)\n",
      "memory usage: 820.3+ KB\n"
     ]
    }
   ],
   "source": [
    "#Checking the data types for the IBM dataset\n",
    "ibm.info()"
   ]
  },
  {
   "cell_type": "markdown",
   "id": "2b68be0e",
   "metadata": {
    "id": "2b68be0e"
   },
   "source": [
    "- The IBM dataset has 12 floats and one object data type.\n",
    "- It looks like there are no missing values in the dataset.\n",
    "- Let's check the statistical summary of the dataset.\n"
   ]
  },
  {
   "cell_type": "code",
   "execution_count": 50,
   "id": "da3635ed",
   "metadata": {
    "colab": {
     "base_uri": "https://localhost:8080/",
     "height": 426
    },
    "id": "da3635ed",
    "outputId": "f5bb666b-c4b7-4c5a-bdb1-2ea20495a0d5"
   },
   "outputs": [
    {
     "data": {
      "text/html": [
       "<div>\n",
       "<style scoped>\n",
       "    .dataframe tbody tr th:only-of-type {\n",
       "        vertical-align: middle;\n",
       "    }\n",
       "\n",
       "    .dataframe tbody tr th {\n",
       "        vertical-align: top;\n",
       "    }\n",
       "\n",
       "    .dataframe thead th {\n",
       "        text-align: right;\n",
       "    }\n",
       "</style>\n",
       "<table border=\"1\" class=\"dataframe\">\n",
       "  <thead>\n",
       "    <tr style=\"text-align: right;\">\n",
       "      <th></th>\n",
       "      <th>count</th>\n",
       "      <th>mean</th>\n",
       "      <th>std</th>\n",
       "      <th>min</th>\n",
       "      <th>25%</th>\n",
       "      <th>50%</th>\n",
       "      <th>75%</th>\n",
       "      <th>max</th>\n",
       "    </tr>\n",
       "  </thead>\n",
       "  <tbody>\n",
       "    <tr>\n",
       "      <th>Open</th>\n",
       "      <td>8076.000000</td>\n",
       "      <td>119.793670</td>\n",
       "      <td>38.268124</td>\n",
       "      <td>41.000000</td>\n",
       "      <td>92.500000</td>\n",
       "      <td>113.250000</td>\n",
       "      <td>147.750000</td>\n",
       "      <td>241.500000</td>\n",
       "    </tr>\n",
       "    <tr>\n",
       "      <th>High</th>\n",
       "      <td>8076.000000</td>\n",
       "      <td>120.960653</td>\n",
       "      <td>38.466310</td>\n",
       "      <td>41.750000</td>\n",
       "      <td>93.462500</td>\n",
       "      <td>114.500000</td>\n",
       "      <td>148.970000</td>\n",
       "      <td>246.000000</td>\n",
       "    </tr>\n",
       "    <tr>\n",
       "      <th>Low</th>\n",
       "      <td>8076.000000</td>\n",
       "      <td>118.684067</td>\n",
       "      <td>38.098826</td>\n",
       "      <td>40.630000</td>\n",
       "      <td>91.672500</td>\n",
       "      <td>112.120000</td>\n",
       "      <td>146.645000</td>\n",
       "      <td>237.000000</td>\n",
       "    </tr>\n",
       "    <tr>\n",
       "      <th>Close</th>\n",
       "      <td>8076.000000</td>\n",
       "      <td>119.825630</td>\n",
       "      <td>38.303660</td>\n",
       "      <td>41.000000</td>\n",
       "      <td>92.547500</td>\n",
       "      <td>113.370000</td>\n",
       "      <td>147.760000</td>\n",
       "      <td>246.000000</td>\n",
       "    </tr>\n",
       "    <tr>\n",
       "      <th>Volume</th>\n",
       "      <td>8076.000000</td>\n",
       "      <td>4757736.209014</td>\n",
       "      <td>3421057.396784</td>\n",
       "      <td>163200.000000</td>\n",
       "      <td>2285543.750000</td>\n",
       "      <td>4024175.000000</td>\n",
       "      <td>6209375.000000</td>\n",
       "      <td>69444700.000000</td>\n",
       "    </tr>\n",
       "    <tr>\n",
       "      <th>Ex-Dividend</th>\n",
       "      <td>8076.000000</td>\n",
       "      <td>0.009386</td>\n",
       "      <td>0.093975</td>\n",
       "      <td>0.000000</td>\n",
       "      <td>0.000000</td>\n",
       "      <td>0.000000</td>\n",
       "      <td>0.000000</td>\n",
       "      <td>1.500000</td>\n",
       "    </tr>\n",
       "    <tr>\n",
       "      <th>Split Ratio</th>\n",
       "      <td>8076.000000</td>\n",
       "      <td>1.000248</td>\n",
       "      <td>0.015736</td>\n",
       "      <td>1.000000</td>\n",
       "      <td>1.000000</td>\n",
       "      <td>1.000000</td>\n",
       "      <td>1.000000</td>\n",
       "      <td>2.000000</td>\n",
       "    </tr>\n",
       "    <tr>\n",
       "      <th>Adj. Open</th>\n",
       "      <td>8076.000000</td>\n",
       "      <td>71.420311</td>\n",
       "      <td>53.251323</td>\n",
       "      <td>7.056547</td>\n",
       "      <td>17.343934</td>\n",
       "      <td>64.948947</td>\n",
       "      <td>104.416584</td>\n",
       "      <td>186.042617</td>\n",
       "    </tr>\n",
       "    <tr>\n",
       "      <th>Adj. High</th>\n",
       "      <td>8076.000000</td>\n",
       "      <td>72.086138</td>\n",
       "      <td>53.608637</td>\n",
       "      <td>7.185630</td>\n",
       "      <td>17.473538</td>\n",
       "      <td>65.695630</td>\n",
       "      <td>105.207042</td>\n",
       "      <td>186.491787</td>\n",
       "    </tr>\n",
       "    <tr>\n",
       "      <th>Adj. Low</th>\n",
       "      <td>8076.000000</td>\n",
       "      <td>70.799308</td>\n",
       "      <td>52.926384</td>\n",
       "      <td>6.992866</td>\n",
       "      <td>17.178284</td>\n",
       "      <td>64.269430</td>\n",
       "      <td>103.917571</td>\n",
       "      <td>185.109726</td>\n",
       "    </tr>\n",
       "    <tr>\n",
       "      <th>Adj. Close</th>\n",
       "      <td>8076.000000</td>\n",
       "      <td>71.449907</td>\n",
       "      <td>53.276162</td>\n",
       "      <td>7.056547</td>\n",
       "      <td>17.311823</td>\n",
       "      <td>64.990393</td>\n",
       "      <td>104.616161</td>\n",
       "      <td>186.405408</td>\n",
       "    </tr>\n",
       "    <tr>\n",
       "      <th>Adj. Volume</th>\n",
       "      <td>8076.000000</td>\n",
       "      <td>7333269.455671</td>\n",
       "      <td>4453436.650976</td>\n",
       "      <td>652800.000000</td>\n",
       "      <td>4563600.000000</td>\n",
       "      <td>6280000.000000</td>\n",
       "      <td>8760000.000000</td>\n",
       "      <td>69444700.000000</td>\n",
       "    </tr>\n",
       "  </tbody>\n",
       "</table>\n",
       "</div>"
      ],
      "text/plain": [
       "                  count           mean            std           min  \\\n",
       "Open        8076.000000     119.793670      38.268124     41.000000   \n",
       "High        8076.000000     120.960653      38.466310     41.750000   \n",
       "Low         8076.000000     118.684067      38.098826     40.630000   \n",
       "Close       8076.000000     119.825630      38.303660     41.000000   \n",
       "Volume      8076.000000 4757736.209014 3421057.396784 163200.000000   \n",
       "Ex-Dividend 8076.000000       0.009386       0.093975      0.000000   \n",
       "Split Ratio 8076.000000       1.000248       0.015736      1.000000   \n",
       "Adj. Open   8076.000000      71.420311      53.251323      7.056547   \n",
       "Adj. High   8076.000000      72.086138      53.608637      7.185630   \n",
       "Adj. Low    8076.000000      70.799308      52.926384      6.992866   \n",
       "Adj. Close  8076.000000      71.449907      53.276162      7.056547   \n",
       "Adj. Volume 8076.000000 7333269.455671 4453436.650976 652800.000000   \n",
       "\n",
       "                       25%            50%            75%             max  \n",
       "Open             92.500000     113.250000     147.750000      241.500000  \n",
       "High             93.462500     114.500000     148.970000      246.000000  \n",
       "Low              91.672500     112.120000     146.645000      237.000000  \n",
       "Close            92.547500     113.370000     147.760000      246.000000  \n",
       "Volume      2285543.750000 4024175.000000 6209375.000000 69444700.000000  \n",
       "Ex-Dividend       0.000000       0.000000       0.000000        1.500000  \n",
       "Split Ratio       1.000000       1.000000       1.000000        2.000000  \n",
       "Adj. Open        17.343934      64.948947     104.416584      186.042617  \n",
       "Adj. High        17.473538      65.695630     105.207042      186.491787  \n",
       "Adj. Low         17.178284      64.269430     103.917571      185.109726  \n",
       "Adj. Close       17.311823      64.990393     104.616161      186.405408  \n",
       "Adj. Volume 4563600.000000 6280000.000000 8760000.000000 69444700.000000  "
      ]
     },
     "execution_count": 50,
     "metadata": {},
     "output_type": "execute_result"
    }
   ],
   "source": [
    "ibm.describe().T"
   ]
  },
  {
   "cell_type": "markdown",
   "id": "4c4d9ee7",
   "metadata": {
    "id": "4c4d9ee7"
   },
   "source": [
    "- The average open price is 119.79.  The lowest and highest prices are 41 and 241.50 respectively.\n",
    "- The average close price is 119.87  and the lowest and highest prices are 41 and 246.00 respectively.\n",
    "\n",
    "- Overall, IBM stocks have higher stock prices than Microsoft. However, this doesn’t mean that it has higher returns, which is the purpose of this analysis.  "
   ]
  },
  {
   "cell_type": "markdown",
   "id": "a5dedf8a",
   "metadata": {
    "id": "a5dedf8a"
   },
   "source": [
    "### Cleaning Data"
   ]
  },
  {
   "cell_type": "markdown",
   "id": "a941eb70",
   "metadata": {
    "id": "a941eb70"
   },
   "source": [
    "#### The data has not that much cleaning to do. However, let's change the column names to lower case. In addition, some of the columns name are showing with spaces in between. Let's rename some of these columns."
   ]
  },
  {
   "cell_type": "code",
   "execution_count": 51,
   "id": "b52245ea",
   "metadata": {
    "colab": {
     "base_uri": "https://localhost:8080/"
    },
    "id": "b52245ea",
    "outputId": "f4d071e1-eb53-4ef3-cfc4-aa04d723aefe"
   },
   "outputs": [
    {
     "data": {
      "text/plain": [
       "Index(['date', 'open', 'high', 'low', 'close', 'volume', 'ex-dividend',\n",
       "       'split ratio', 'adj. open', 'adj. high', 'adj. low', 'adj. close',\n",
       "       'adj. volume'],\n",
       "      dtype='object')"
      ]
     },
     "execution_count": 51,
     "metadata": {},
     "output_type": "execute_result"
    }
   ],
   "source": [
    "# Changing Microsoft column names to lower case\n",
    "msft.columns = [x.lower() for x in msft.columns]\n",
    "msft.columns"
   ]
  },
  {
   "cell_type": "markdown",
   "id": "0b538dd6",
   "metadata": {
    "id": "0b538dd6"
   },
   "source": [
    "- The columns for Microsoft are shown in lowercase.\n",
    "- Let’s do the same for the IBM dataset."
   ]
  },
  {
   "cell_type": "code",
   "execution_count": 52,
   "id": "6bc40f17",
   "metadata": {
    "colab": {
     "base_uri": "https://localhost:8080/"
    },
    "id": "6bc40f17",
    "outputId": "929553c9-694b-4350-8236-21dbb7081c02"
   },
   "outputs": [
    {
     "data": {
      "text/plain": [
       "Index(['date', 'open', 'high', 'low', 'close', 'volume', 'ex-dividend',\n",
       "       'split ratio', 'adj. open', 'adj. high', 'adj. low', 'adj. close',\n",
       "       'adj. volume'],\n",
       "      dtype='object')"
      ]
     },
     "execution_count": 52,
     "metadata": {},
     "output_type": "execute_result"
    }
   ],
   "source": [
    "ibm.columns = [x.lower() for x in ibm.columns]\n",
    "ibm.columns"
   ]
  },
  {
   "cell_type": "code",
   "execution_count": 53,
   "id": "40f7d59e",
   "metadata": {
    "id": "40f7d59e"
   },
   "outputs": [],
   "source": [
    "msft.rename(columns={\n",
    "\n",
    "                'split ratio': 'split_ratio',\n",
    "                'adj. open' : 'adj_open',\n",
    "                'adj. high': 'adj_high',\n",
    "                'adj. low' : 'adj_low',\n",
    "                'adj. close': 'adj_close',\n",
    "                'adj. volume': 'adj_volume'\n",
    "            }, inplace=True)\n"
   ]
  },
  {
   "cell_type": "code",
   "execution_count": 54,
   "id": "fd15f3b9",
   "metadata": {
    "colab": {
     "base_uri": "https://localhost:8080/"
    },
    "id": "fd15f3b9",
    "outputId": "3f7054e3-ddd6-40ff-dae7-6d89d9ea90f3"
   },
   "outputs": [
    {
     "data": {
      "text/plain": [
       "Index(['date', 'open', 'high', 'low', 'close', 'volume', 'ex-dividend',\n",
       "       'split_ratio', 'adj_open', 'adj_high', 'adj_low', 'adj_close',\n",
       "       'adj_volume'],\n",
       "      dtype='object')"
      ]
     },
     "execution_count": 54,
     "metadata": {},
     "output_type": "execute_result"
    }
   ],
   "source": [
    "msft.columns"
   ]
  },
  {
   "cell_type": "code",
   "execution_count": 55,
   "id": "8884f08a",
   "metadata": {
    "colab": {
     "base_uri": "https://localhost:8080/"
    },
    "id": "8884f08a",
    "outputId": "36275ae5-3c65-4130-befa-8ad8c3ffea28"
   },
   "outputs": [
    {
     "data": {
      "text/plain": [
       "Index(['date', 'open', 'high', 'low', 'close', 'volume', 'ex-dividend',\n",
       "       'split_ratio', 'adj_open', 'adj_high', 'adj_low', 'adj_close',\n",
       "       'adj_volume'],\n",
       "      dtype='object')"
      ]
     },
     "execution_count": 55,
     "metadata": {},
     "output_type": "execute_result"
    }
   ],
   "source": [
    "ibm.rename(columns={\n",
    "\n",
    "                'split ratio': 'split_ratio',\n",
    "                'adj. open' : 'adj_open',\n",
    "                'adj. high': 'adj_high',\n",
    "                'adj. low' : 'adj_low',\n",
    "                'adj. close': 'adj_close',\n",
    "                'adj. volume': 'adj_volume'\n",
    "            }, inplace=True)\n",
    "ibm.columns"
   ]
  },
  {
   "cell_type": "markdown",
   "id": "b268d5e3",
   "metadata": {
    "id": "b268d5e3"
   },
   "source": [
    "- Now, Let's calculate the daily stock return for both datasets. As previously mentioned, we are using the log return method. The log return method gives a more precise result.\n",
    "- The np.log method in Numpy is the method used to accomplish it.\n",
    "- Let's start with the Microsoft dataset."
   ]
  },
  {
   "cell_type": "code",
   "execution_count": 56,
   "id": "bbb2cab7",
   "metadata": {
    "colab": {
     "base_uri": "https://localhost:8080/"
    },
    "id": "bbb2cab7",
    "outputId": "d91555ee-54b4-4e28-ce3c-7af141438c60"
   },
   "outputs": [
    {
     "data": {
      "text/plain": [
       "Index(['date', 'open', 'high', 'low', 'close', 'volume', 'ex-dividend',\n",
       "       'split_ratio', 'adj_open', 'adj_high', 'adj_low', 'adj_close',\n",
       "       'adj_volume', 'log_return'],\n",
       "      dtype='object')"
      ]
     },
     "execution_count": 56,
     "metadata": {},
     "output_type": "execute_result"
    }
   ],
   "source": [
    "#Creating log return column for Microsoft data set\n",
    "msft['log_return'] = np.log(msft['close'] / msft['open']).shift(1)\n",
    "msft.columns"
   ]
  },
  {
   "cell_type": "code",
   "execution_count": 57,
   "id": "2c15ca77",
   "metadata": {
    "colab": {
     "base_uri": "https://localhost:8080/"
    },
    "id": "2c15ca77",
    "outputId": "cd488a62-e684-42b0-e90b-4f93cdced796"
   },
   "outputs": [
    {
     "data": {
      "text/plain": [
       "0            NaN\n",
       "1       0.093526\n",
       "2       0.035091\n",
       "3       0.017094\n",
       "4      -0.025752\n",
       "          ...   \n",
       "8071    0.000859\n",
       "8072   -0.004854\n",
       "8073   -0.016294\n",
       "8074   -0.026264\n",
       "8075    0.034387\n",
       "Name: log_return, Length: 8076, dtype: float64"
      ]
     },
     "execution_count": 57,
     "metadata": {},
     "output_type": "execute_result"
    }
   ],
   "source": [
    "msft.log_return"
   ]
  },
  {
   "cell_type": "code",
   "execution_count": 58,
   "id": "6471ea5c",
   "metadata": {
    "colab": {
     "base_uri": "https://localhost:8080/"
    },
    "id": "6471ea5c",
    "outputId": "5d420564-fafa-4c7e-fc7c-b3d7ddb4d2ee"
   },
   "outputs": [
    {
     "data": {
      "text/plain": [
       "Index(['date', 'open', 'high', 'low', 'close', 'volume', 'ex-dividend',\n",
       "       'split_ratio', 'adj_open', 'adj_high', 'adj_low', 'adj_close',\n",
       "       'adj_volume', 'log_return'],\n",
       "      dtype='object')"
      ]
     },
     "execution_count": 58,
     "metadata": {},
     "output_type": "execute_result"
    }
   ],
   "source": [
    "#Creating log return column for IBM data set\n",
    "ibm['log_return'] = np.log(ibm['close'] / ibm['open']).shift(1)\n",
    "ibm.columns"
   ]
  },
  {
   "cell_type": "code",
   "execution_count": 59,
   "id": "90dfc6aa",
   "metadata": {
    "colab": {
     "base_uri": "https://localhost:8080/"
    },
    "id": "90dfc6aa",
    "outputId": "3fb674ea-686a-4503-9e00-d0dd069372ef"
   },
   "outputs": [
    {
     "data": {
      "text/plain": [
       "0            NaN\n",
       "1       0.014187\n",
       "2      -0.002457\n",
       "3       0.007518\n",
       "4       0.009893\n",
       "          ...   \n",
       "8071   -0.008415\n",
       "8072    0.000766\n",
       "8073   -0.018953\n",
       "8074   -0.022316\n",
       "8075    0.014184\n",
       "Name: log_return, Length: 8076, dtype: float64"
      ]
     },
     "execution_count": 59,
     "metadata": {},
     "output_type": "execute_result"
    }
   ],
   "source": [
    "ibm.log_return"
   ]
  },
  {
   "cell_type": "markdown",
   "id": "b29ce535",
   "metadata": {
    "id": "b29ce535"
   },
   "source": [
    "#### We could check the highest return for each stock."
   ]
  },
  {
   "cell_type": "code",
   "execution_count": 60,
   "id": "aa2e5090",
   "metadata": {
    "colab": {
     "base_uri": "https://localhost:8080/"
    },
    "id": "aa2e5090",
    "outputId": "1e18e2df-5c9a-43d1-8a37-e3cb06b03e03"
   },
   "outputs": [
    {
     "name": "stdout",
     "output_type": "stream",
     "text": [
      "Microsoft stock highest return: 0.146328\n",
      "IBM stock highest return: 0.122033\n"
     ]
    }
   ],
   "source": [
    "print(f'Microsoft stock highest return: {round(msft.log_return.max(),6)}')\n",
    "print(f'IBM stock highest return: {round(ibm.log_return.max(),6)}')"
   ]
  },
  {
   "cell_type": "markdown",
   "id": "f3d4a09b",
   "metadata": {
    "id": "f3d4a09b"
   },
   "source": [
    "### EDA"
   ]
  },
  {
   "cell_type": "markdown",
   "id": "b1bc2edf",
   "metadata": {
    "id": "b1bc2edf"
   },
   "source": [
    "##### Let's check the distribution for the open, close, and return columns."
   ]
  },
  {
   "cell_type": "markdown",
   "id": "8550082a",
   "metadata": {
    "id": "8550082a"
   },
   "source": [
    "#### Microsoft"
   ]
  },
  {
   "cell_type": "code",
   "execution_count": 61,
   "id": "5990aa83",
   "metadata": {
    "colab": {
     "base_uri": "https://localhost:8080/",
     "height": 472
    },
    "id": "5990aa83",
    "outputId": "6f566ab6-dc1b-4c5e-a8ab-1688d2673baa"
   },
   "outputs": [
    {
     "data": {
      "image/png": "[encoded data removed]",
      "text/plain": [
       "<Figure size 640x480 with 1 Axes>"
      ]
     },
     "metadata": {},
     "output_type": "display_data"
    }
   ],
   "source": [
    "# Checking the distribution Open Price column\n",
    "\n",
    "sns.histplot(data=msft, x='open', kde=True)\n",
    "plt.title('Microsoft - Open-Prices Distribution')\n",
    "sns.set_style('whitegrid')\n",
    "plt.show()"
   ]
  },
  {
   "cell_type": "markdown",
   "id": "460eadf8",
   "metadata": {
    "id": "460eadf8"
   },
   "source": [
    " - The open-price distribution skews to the right.\n",
    " - Most of the open-price for Microsoft is between 25 and 30 dollars."
   ]
  },
  {
   "cell_type": "code",
   "execution_count": 28,
   "id": "2a297cd2",
   "metadata": {
    "colab": {
     "base_uri": "https://localhost:8080/",
     "height": 472
    },
    "id": "2a297cd2",
    "outputId": "737de7bc-b4eb-4635-bd1c-6e32db2cc48d"
   },
   "outputs": [
    {
     "data": {
      "image/png": "[encoded data removed]",
      "text/plain": [
       "<Figure size 640x480 with 1 Axes>"
      ]
     },
     "metadata": {},
     "output_type": "display_data"
    }
   ],
   "source": [
    "# Checking the distribution for the Microsoft Close Price column\n",
    "\n",
    "sns.histplot(data=msft, x='close', kde=True)\n",
    "plt.title('Microsoft - Close-Prices Distribution')\n",
    "sns.set_style('whitegrid')\n",
    "plt.show()"
   ]
  },
  {
   "cell_type": "markdown",
   "id": "93b48055",
   "metadata": {
    "id": "93b48055"
   },
   "source": [
    " - The open-price distribution skews to the right.\n",
    " - Most of the open-price for Microsoft is between 25 and 30 dollars.\n",
    " - It is the same behavior as the open-prices."
   ]
  },
  {
   "cell_type": "code",
   "execution_count": 29,
   "id": "de045a73",
   "metadata": {
    "colab": {
     "base_uri": "https://localhost:8080/",
     "height": 472
    },
    "id": "de045a73",
    "outputId": "fe49a65d-0905-41cf-d6fd-a24ca0d0c2dd"
   },
   "outputs": [
    {
     "data": {
      "image/png": "[encoded data removed]",
      "text/plain": [
       "<Figure size 640x480 with 1 Axes>"
      ]
     },
     "metadata": {},
     "output_type": "display_data"
    }
   ],
   "source": [
    "#checking the distribution of the daily return columns\n",
    "sns.histplot(data=msft, x='log_return', kde=True)\n",
    "sns.set_style('whitegrid')\n",
    "plt.title('Microsoft - Daily Returns Distribution')\n",
    "plt.show()"
   ]
  },
  {
   "cell_type": "markdown",
   "id": "96497029",
   "metadata": {
    "id": "96497029"
   },
   "source": [
    "- The log return has a normal distribution where most returns are closed to zero."
   ]
  },
  {
   "cell_type": "markdown",
   "id": "7b1509dd",
   "metadata": {
    "id": "7b1509dd"
   },
   "source": [
    "### IBM"
   ]
  },
  {
   "cell_type": "code",
   "execution_count": 30,
   "id": "e4339e88",
   "metadata": {
    "colab": {
     "base_uri": "https://localhost:8080/",
     "height": 472
    },
    "id": "e4339e88",
    "outputId": "3326d2ff-300b-4119-96c8-7dbdb2db8b43"
   },
   "outputs": [
    {
     "data": {
      "image/png": "[encoded data removed]",
      "text/plain": [
       "<Figure size 640x480 with 1 Axes>"
      ]
     },
     "metadata": {},
     "output_type": "display_data"
    }
   ],
   "source": [
    "#Checking the distribution of the open-price columns\n",
    "sns.histplot(data=ibm, x='open', kde=True)\n",
    "sns.set_style('whitegrid')\n",
    "plt.title('IBM - Open-Prices Distribution')\n",
    "plt.show()"
   ]
  },
  {
   "cell_type": "markdown",
   "id": "8fb6261e",
   "metadata": {
    "id": "8fb6261e"
   },
   "source": [
    " - IBM open-price has a diverse distribution mostly concentrated between 75 and 125."
   ]
  },
  {
   "cell_type": "code",
   "execution_count": 31,
   "id": "0f57a806",
   "metadata": {
    "colab": {
     "base_uri": "https://localhost:8080/",
     "height": 472
    },
    "id": "0f57a806",
    "outputId": "bbf93f8d-ab39-44bb-b68d-144996213a25"
   },
   "outputs": [
    {
     "data": {
      "image/png": "[encoded data removed]",
      "text/plain": [
       "<Figure size 640x480 with 1 Axes>"
      ]
     },
     "metadata": {},
     "output_type": "display_data"
    }
   ],
   "source": [
    "# checking the distribution of the close-price columns\n",
    "sns.histplot(data=ibm, x='close', kde=True)\n",
    "sns.set_style('whitegrid')\n",
    "plt.title('IBM - Close-Prices Distribution')\n",
    "plt.show()"
   ]
  },
  {
   "cell_type": "markdown",
   "id": "b86ea38d",
   "metadata": {
    "id": "b86ea38d"
   },
   "source": [
    "- Most of the close-price is concentrated between 85 and 135."
   ]
  },
  {
   "cell_type": "code",
   "execution_count": 32,
   "id": "ddebd676",
   "metadata": {
    "colab": {
     "base_uri": "https://localhost:8080/",
     "height": 472
    },
    "id": "ddebd676",
    "outputId": "99808070-d84c-4694-eb9b-2e8a1cc92864"
   },
   "outputs": [
    {
     "data": {
      "image/png": "[encoded data removed]",
      "text/plain": [
       "<Figure size 640x480 with 1 Axes>"
      ]
     },
     "metadata": {},
     "output_type": "display_data"
    }
   ],
   "source": [
    "# Checking the return column distribution\n",
    "sns.histplot(data=ibm, x='log_return', kde=True)\n",
    "sns.set_style('whitegrid')\n",
    "plt.title('IBM - Return Distribution')\n",
    "plt.show()"
   ]
  },
  {
   "cell_type": "markdown",
   "id": "2bca45f1",
   "metadata": {
    "id": "2bca45f1"
   },
   "source": [
    "- The log return has a normal distribution where most returns are closed to zero."
   ]
  },
  {
   "cell_type": "markdown",
   "id": "842a5c00",
   "metadata": {
    "id": "842a5c00"
   },
   "source": [
    "#### For the rest of my analysis, I am combining both datasets. Before combining them, I am assigning a new column for each dataset to identify each row by its ticker name."
   ]
  },
  {
   "cell_type": "code",
   "execution_count": 62,
   "id": "46239e3b",
   "metadata": {
    "id": "46239e3b"
   },
   "outputs": [],
   "source": [
    "msft = msft.assign(ticker='MSFT')\n",
    "ibm = ibm.assign(ticker='IBM')"
   ]
  },
  {
   "cell_type": "code",
   "execution_count": 63,
   "id": "06a10a2f",
   "metadata": {
    "colab": {
     "base_uri": "https://localhost:8080/",
     "height": 206
    },
    "id": "06a10a2f",
    "outputId": "19503944-4745-4593-ef70-d8cfd0d8707f"
   },
   "outputs": [
    {
     "data": {
      "text/html": [
       "<div>\n",
       "<style scoped>\n",
       "    .dataframe tbody tr th:only-of-type {\n",
       "        vertical-align: middle;\n",
       "    }\n",
       "\n",
       "    .dataframe tbody tr th {\n",
       "        vertical-align: top;\n",
       "    }\n",
       "\n",
       "    .dataframe thead th {\n",
       "        text-align: right;\n",
       "    }\n",
       "</style>\n",
       "<table border=\"1\" class=\"dataframe\">\n",
       "  <thead>\n",
       "    <tr style=\"text-align: right;\">\n",
       "      <th></th>\n",
       "      <th>date</th>\n",
       "      <th>open</th>\n",
       "      <th>high</th>\n",
       "      <th>low</th>\n",
       "      <th>close</th>\n",
       "      <th>volume</th>\n",
       "      <th>ex-dividend</th>\n",
       "      <th>split_ratio</th>\n",
       "      <th>adj_open</th>\n",
       "      <th>adj_high</th>\n",
       "      <th>adj_low</th>\n",
       "      <th>adj_close</th>\n",
       "      <th>adj_volume</th>\n",
       "      <th>log_return</th>\n",
       "      <th>ticker</th>\n",
       "    </tr>\n",
       "  </thead>\n",
       "  <tbody>\n",
       "    <tr>\n",
       "      <th>0</th>\n",
       "      <td>1986-03-13</td>\n",
       "      <td>25.500000</td>\n",
       "      <td>29.250000</td>\n",
       "      <td>25.500000</td>\n",
       "      <td>28.000000</td>\n",
       "      <td>3582600.000000</td>\n",
       "      <td>0.000000</td>\n",
       "      <td>1.000000</td>\n",
       "      <td>0.058941</td>\n",
       "      <td>0.067609</td>\n",
       "      <td>0.058941</td>\n",
       "      <td>0.064720</td>\n",
       "      <td>1031788800.000000</td>\n",
       "      <td>NaN</td>\n",
       "      <td>MSFT</td>\n",
       "    </tr>\n",
       "    <tr>\n",
       "      <th>1</th>\n",
       "      <td>1986-03-14</td>\n",
       "      <td>28.000000</td>\n",
       "      <td>29.500000</td>\n",
       "      <td>28.000000</td>\n",
       "      <td>29.000000</td>\n",
       "      <td>1070000.000000</td>\n",
       "      <td>0.000000</td>\n",
       "      <td>1.000000</td>\n",
       "      <td>0.064720</td>\n",
       "      <td>0.068187</td>\n",
       "      <td>0.064720</td>\n",
       "      <td>0.067031</td>\n",
       "      <td>308160000.000000</td>\n",
       "      <td>0.093526</td>\n",
       "      <td>MSFT</td>\n",
       "    </tr>\n",
       "    <tr>\n",
       "      <th>2</th>\n",
       "      <td>1986-03-17</td>\n",
       "      <td>29.000000</td>\n",
       "      <td>29.750000</td>\n",
       "      <td>29.000000</td>\n",
       "      <td>29.500000</td>\n",
       "      <td>462400.000000</td>\n",
       "      <td>0.000000</td>\n",
       "      <td>1.000000</td>\n",
       "      <td>0.067031</td>\n",
       "      <td>0.068765</td>\n",
       "      <td>0.067031</td>\n",
       "      <td>0.068187</td>\n",
       "      <td>133171200.000000</td>\n",
       "      <td>0.035091</td>\n",
       "      <td>MSFT</td>\n",
       "    </tr>\n",
       "    <tr>\n",
       "      <th>3</th>\n",
       "      <td>1986-03-18</td>\n",
       "      <td>29.500000</td>\n",
       "      <td>29.750000</td>\n",
       "      <td>28.500000</td>\n",
       "      <td>28.750000</td>\n",
       "      <td>235300.000000</td>\n",
       "      <td>0.000000</td>\n",
       "      <td>1.000000</td>\n",
       "      <td>0.068187</td>\n",
       "      <td>0.068765</td>\n",
       "      <td>0.065876</td>\n",
       "      <td>0.066454</td>\n",
       "      <td>67766400.000000</td>\n",
       "      <td>0.017094</td>\n",
       "      <td>MSFT</td>\n",
       "    </tr>\n",
       "    <tr>\n",
       "      <th>4</th>\n",
       "      <td>1986-03-19</td>\n",
       "      <td>28.750000</td>\n",
       "      <td>29.000000</td>\n",
       "      <td>28.000000</td>\n",
       "      <td>28.250000</td>\n",
       "      <td>166300.000000</td>\n",
       "      <td>0.000000</td>\n",
       "      <td>1.000000</td>\n",
       "      <td>0.066454</td>\n",
       "      <td>0.067031</td>\n",
       "      <td>0.064720</td>\n",
       "      <td>0.065298</td>\n",
       "      <td>47894400.000000</td>\n",
       "      <td>-0.025752</td>\n",
       "      <td>MSFT</td>\n",
       "    </tr>\n",
       "  </tbody>\n",
       "</table>\n",
       "</div>"
      ],
      "text/plain": [
       "         date      open      high       low     close         volume  \\\n",
       "0  1986-03-13 25.500000 29.250000 25.500000 28.000000 3582600.000000   \n",
       "1  1986-03-14 28.000000 29.500000 28.000000 29.000000 1070000.000000   \n",
       "2  1986-03-17 29.000000 29.750000 29.000000 29.500000  462400.000000   \n",
       "3  1986-03-18 29.500000 29.750000 28.500000 28.750000  235300.000000   \n",
       "4  1986-03-19 28.750000 29.000000 28.000000 28.250000  166300.000000   \n",
       "\n",
       "   ex-dividend  split_ratio  adj_open  adj_high  adj_low  adj_close  \\\n",
       "0     0.000000     1.000000  0.058941  0.067609 0.058941   0.064720   \n",
       "1     0.000000     1.000000  0.064720  0.068187 0.064720   0.067031   \n",
       "2     0.000000     1.000000  0.067031  0.068765 0.067031   0.068187   \n",
       "3     0.000000     1.000000  0.068187  0.068765 0.065876   0.066454   \n",
       "4     0.000000     1.000000  0.066454  0.067031 0.064720   0.065298   \n",
       "\n",
       "         adj_volume  log_return ticker  \n",
       "0 1031788800.000000         NaN   MSFT  \n",
       "1  308160000.000000    0.093526   MSFT  \n",
       "2  133171200.000000    0.035091   MSFT  \n",
       "3   67766400.000000    0.017094   MSFT  \n",
       "4   47894400.000000   -0.025752   MSFT  "
      ]
     },
     "execution_count": 63,
     "metadata": {},
     "output_type": "execute_result"
    }
   ],
   "source": [
    "msft_ibm = pd.concat([msft, ibm], ignore_index=True)\n",
    "msft_ibm.head()"
   ]
  },
  {
   "cell_type": "markdown",
   "id": "9ab46882",
   "metadata": {
    "id": "9ab46882"
   },
   "source": [
    "#### Let's check which stock has the highest open-price."
   ]
  },
  {
   "cell_type": "code",
   "execution_count": 65,
   "id": "4592704c",
   "metadata": {
    "colab": {
     "base_uri": "https://localhost:8080/",
     "height": 472
    },
    "id": "4592704c",
    "outputId": "f611546e-b4f8-44ef-9437-687afe3f44a0"
   },
   "outputs": [
    {
     "data": {
      "image/png": "[encoded data removed]",
      "text/plain": [
       "<Figure size 640x480 with 1 Axes>"
      ]
     },
     "metadata": {},
     "output_type": "display_data"
    }
   ],
   "source": [
    "tickers = ['IBM', 'MSFT']\n",
    "ax = sns.barplot(data=msft_ibm, y='open', x= 'ticker', hue='ticker', ci=None, order=tickers)\n",
    "sns.set_style('whitegrid')\n",
    "for bar in ax.patches:\n",
    "    bar.set_width(0.3)\n",
    "for container in ax.containers:\n",
    "    ax.bar_label(container)\n",
    "plt.title('Microsoft-IBM Open Prices')\n",
    "plt.show()"
   ]
  },
  {
   "cell_type": "markdown",
   "id": "4cfaf7aa",
   "metadata": {
    "id": "4cfaf7aa"
   },
   "source": [
    "- As expected, IBM average open-price is higher than Microsoft at 119.\n",
    "79 and 59.83 repectively.\n",
    "- Now, let's check the average close-price."
   ]
  },
  {
   "cell_type": "code",
   "execution_count": 66,
   "id": "a5fec066",
   "metadata": {
    "colab": {
     "base_uri": "https://localhost:8080/",
     "height": 472
    },
    "id": "a5fec066",
    "outputId": "71679bbb-a3f5-47fb-a43e-f779806be566"
   },
   "outputs": [
    {
     "data": {
      "image/png": "[encoded data removed]",
      "text/plain": [
       "<Figure size 640x480 with 1 Axes>"
      ]
     },
     "metadata": {},
     "output_type": "display_data"
    }
   ],
   "source": [
    "ax = sns.barplot(data=msft_ibm, y='close', x= 'ticker', hue='ticker', ci=None, order=tickers)\n",
    "sns.set_style('whitegrid')\n",
    "for bar in ax.patches:\n",
    "    bar.set_width(0.3)\n",
    "for container in ax.containers:\n",
    "    ax.bar_label(container)\n",
    "plt.title('Microsoft-IBM Open Prices')\n",
    "plt.show()"
   ]
  },
  {
   "cell_type": "markdown",
   "id": "cf9c45b8",
   "metadata": {
    "id": "cf9c45b8"
   },
   "source": [
    "- Both stocks are showing a little bit higher stock prices in comparison to the open price.\n",
    "- In the case of Microsoft, the average closing price is 59.87 and the opening price 59.83. For IBM, the close price 119.83 and 119.79 respectively.\n",
    "\n",
    "- We can go ahead and check the average returns.\n"
   ]
  },
  {
   "cell_type": "code",
   "execution_count": 68,
   "id": "ca99b9de",
   "metadata": {
    "colab": {
     "base_uri": "https://localhost:8080/",
     "height": 472
    },
    "id": "ca99b9de",
    "outputId": "9b193687-76ce-43f1-f80c-87af88e520fd"
   },
   "outputs": [
    {
     "data": {
      "image/png": "[encoded data removed]",
      "text/plain": [
       "<Figure size 640x480 with 1 Axes>"
      ]
     },
     "metadata": {},
     "output_type": "display_data"
    }
   ],
   "source": [
    "tickers2 = ['MSFT', 'IBM']\n",
    "ax = sns.barplot(data=msft_ibm, y='log_return', x= 'ticker', hue='ticker', ci=None, order=tickers2)\n",
    "sns.set_style('whitegrid')\n",
    "for bar in ax.patches:\n",
    "    bar.set_width(0.3)\n",
    "for container in ax.containers:\n",
    "    ax.bar_label(container)\n",
    "plt.title('Microsoft-IBM Stock Returns Over Time ')\n",
    "plt.show()"
   ]
  },
  {
   "cell_type": "markdown",
   "id": "704ac5b7",
   "metadata": {
    "id": "704ac5b7"
   },
   "source": [
    "- Over time, Microsoft shows higher returns at 0.000557238 percentage points than to IBM at 0.000183681.\n",
    "\n",
    "- These percentage points might look insignificant to the regular eye. However, for an investor owning thousands or millions of shares, negative or positive changes could impact her portfolio inversely or adversely respectively.\n",
    "\n",
    "- Now, let's check the median return for each stock measurement with boxplots.\n"
   ]
  },
  {
   "cell_type": "code",
   "execution_count": 69,
   "id": "b592a083",
   "metadata": {
    "colab": {
     "base_uri": "https://localhost:8080/",
     "height": 465
    },
    "id": "b592a083",
    "outputId": "deb4e609-8929-44d4-fe64-3cd178967635"
   },
   "outputs": [
    {
     "data": {
      "image/png": "[encoded data removed]",
      "text/plain": [
       "<Figure size 500x500 with 1 Axes>"
      ]
     },
     "metadata": {},
     "output_type": "display_data"
    }
   ],
   "source": [
    "plt.figure(figsize=[5,5])\n",
    "ax = sns.boxplot(data=msft_ibm, x='ticker', hue='ticker', y='log_return', palette='winter')\n",
    "plt.show()"
   ]
  },
  {
   "cell_type": "markdown",
   "id": "BcgbhvNGKwx2",
   "metadata": {
    "id": "BcgbhvNGKwx2"
   },
   "source": [
    "- The median return for both stocks is around zero\n"
   ]
  },
  {
   "cell_type": "markdown",
   "id": "yHXyGQqNORsg",
   "metadata": {
    "id": "yHXyGQqNORsg"
   },
   "source": [
    "#### Let's check the correlation of among the columns using seaborn heatmap."
   ]
  },
  {
   "cell_type": "code",
   "execution_count": 70,
   "id": "4ef3ee7d",
   "metadata": {
    "colab": {
     "base_uri": "https://localhost:8080/",
     "height": 435
    },
    "id": "4ef3ee7d",
    "outputId": "3ecb97bf-1644-4a9c-dbba-5c34802519a8"
   },
   "outputs": [
    {
     "data": {
      "image/png": "[encoded data removed]",
      "text/plain": [
       "<Figure size 640x480 with 2 Axes>"
      ]
     },
     "metadata": {},
     "output_type": "display_data"
    }
   ],
   "source": [
    "sns.heatmap(data=msft_ibm[['open','high', 'low', 'close', 'volume','log_return']].corr(), annot=True, cmap='YlGnBu')\n",
    "plt.show()"
   ]
  },
  {
   "cell_type": "markdown",
   "id": "152x8KPZlxDx",
   "metadata": {
    "id": "152x8KPZlxDx"
   },
   "source": [
    "- It can be observed that most of the variables are highly correlated. Volume has a medium correlation with the rest of the variables except the returns.\n",
    "- Log return has a low correlation with the rest of the variables."
   ]
  },
  {
   "cell_type": "markdown",
   "id": "SlbQwMHSnGEQ",
   "metadata": {
    "id": "SlbQwMHSnGEQ"
   },
   "source": [
    "- Let's check the returns per year for both stocks.\n",
    "- However, we need to convert the date column as a datetime data type."
   ]
  },
  {
   "cell_type": "code",
   "execution_count": 71,
   "id": "YuNmF6o1O0t0",
   "metadata": {
    "colab": {
     "base_uri": "https://localhost:8080/",
     "height": 206
    },
    "id": "YuNmF6o1O0t0",
    "outputId": "22fe6c98-01ff-4667-f341-d583b2bbf8a5"
   },
   "outputs": [
    {
     "data": {
      "text/html": [
       "<div>\n",
       "<style scoped>\n",
       "    .dataframe tbody tr th:only-of-type {\n",
       "        vertical-align: middle;\n",
       "    }\n",
       "\n",
       "    .dataframe tbody tr th {\n",
       "        vertical-align: top;\n",
       "    }\n",
       "\n",
       "    .dataframe thead th {\n",
       "        text-align: right;\n",
       "    }\n",
       "</style>\n",
       "<table border=\"1\" class=\"dataframe\">\n",
       "  <thead>\n",
       "    <tr style=\"text-align: right;\">\n",
       "      <th></th>\n",
       "      <th>date</th>\n",
       "      <th>open</th>\n",
       "      <th>high</th>\n",
       "      <th>low</th>\n",
       "      <th>close</th>\n",
       "      <th>volume</th>\n",
       "      <th>ex-dividend</th>\n",
       "      <th>split_ratio</th>\n",
       "      <th>adj_open</th>\n",
       "      <th>adj_high</th>\n",
       "      <th>adj_low</th>\n",
       "      <th>adj_close</th>\n",
       "      <th>adj_volume</th>\n",
       "      <th>log_return</th>\n",
       "      <th>ticker</th>\n",
       "    </tr>\n",
       "  </thead>\n",
       "  <tbody>\n",
       "    <tr>\n",
       "      <th>0</th>\n",
       "      <td>1986-03-13</td>\n",
       "      <td>25.500000</td>\n",
       "      <td>29.250000</td>\n",
       "      <td>25.500000</td>\n",
       "      <td>28.000000</td>\n",
       "      <td>3582600.000000</td>\n",
       "      <td>0.000000</td>\n",
       "      <td>1.000000</td>\n",
       "      <td>0.058941</td>\n",
       "      <td>0.067609</td>\n",
       "      <td>0.058941</td>\n",
       "      <td>0.064720</td>\n",
       "      <td>1031788800.000000</td>\n",
       "      <td>NaN</td>\n",
       "      <td>MSFT</td>\n",
       "    </tr>\n",
       "    <tr>\n",
       "      <th>1</th>\n",
       "      <td>1986-03-14</td>\n",
       "      <td>28.000000</td>\n",
       "      <td>29.500000</td>\n",
       "      <td>28.000000</td>\n",
       "      <td>29.000000</td>\n",
       "      <td>1070000.000000</td>\n",
       "      <td>0.000000</td>\n",
       "      <td>1.000000</td>\n",
       "      <td>0.064720</td>\n",
       "      <td>0.068187</td>\n",
       "      <td>0.064720</td>\n",
       "      <td>0.067031</td>\n",
       "      <td>308160000.000000</td>\n",
       "      <td>0.093526</td>\n",
       "      <td>MSFT</td>\n",
       "    </tr>\n",
       "    <tr>\n",
       "      <th>2</th>\n",
       "      <td>1986-03-17</td>\n",
       "      <td>29.000000</td>\n",
       "      <td>29.750000</td>\n",
       "      <td>29.000000</td>\n",
       "      <td>29.500000</td>\n",
       "      <td>462400.000000</td>\n",
       "      <td>0.000000</td>\n",
       "      <td>1.000000</td>\n",
       "      <td>0.067031</td>\n",
       "      <td>0.068765</td>\n",
       "      <td>0.067031</td>\n",
       "      <td>0.068187</td>\n",
       "      <td>133171200.000000</td>\n",
       "      <td>0.035091</td>\n",
       "      <td>MSFT</td>\n",
       "    </tr>\n",
       "    <tr>\n",
       "      <th>3</th>\n",
       "      <td>1986-03-18</td>\n",
       "      <td>29.500000</td>\n",
       "      <td>29.750000</td>\n",
       "      <td>28.500000</td>\n",
       "      <td>28.750000</td>\n",
       "      <td>235300.000000</td>\n",
       "      <td>0.000000</td>\n",
       "      <td>1.000000</td>\n",
       "      <td>0.068187</td>\n",
       "      <td>0.068765</td>\n",
       "      <td>0.065876</td>\n",
       "      <td>0.066454</td>\n",
       "      <td>67766400.000000</td>\n",
       "      <td>0.017094</td>\n",
       "      <td>MSFT</td>\n",
       "    </tr>\n",
       "    <tr>\n",
       "      <th>4</th>\n",
       "      <td>1986-03-19</td>\n",
       "      <td>28.750000</td>\n",
       "      <td>29.000000</td>\n",
       "      <td>28.000000</td>\n",
       "      <td>28.250000</td>\n",
       "      <td>166300.000000</td>\n",
       "      <td>0.000000</td>\n",
       "      <td>1.000000</td>\n",
       "      <td>0.066454</td>\n",
       "      <td>0.067031</td>\n",
       "      <td>0.064720</td>\n",
       "      <td>0.065298</td>\n",
       "      <td>47894400.000000</td>\n",
       "      <td>-0.025752</td>\n",
       "      <td>MSFT</td>\n",
       "    </tr>\n",
       "  </tbody>\n",
       "</table>\n",
       "</div>"
      ],
      "text/plain": [
       "        date      open      high       low     close         volume  \\\n",
       "0 1986-03-13 25.500000 29.250000 25.500000 28.000000 3582600.000000   \n",
       "1 1986-03-14 28.000000 29.500000 28.000000 29.000000 1070000.000000   \n",
       "2 1986-03-17 29.000000 29.750000 29.000000 29.500000  462400.000000   \n",
       "3 1986-03-18 29.500000 29.750000 28.500000 28.750000  235300.000000   \n",
       "4 1986-03-19 28.750000 29.000000 28.000000 28.250000  166300.000000   \n",
       "\n",
       "   ex-dividend  split_ratio  adj_open  adj_high  adj_low  adj_close  \\\n",
       "0     0.000000     1.000000  0.058941  0.067609 0.058941   0.064720   \n",
       "1     0.000000     1.000000  0.064720  0.068187 0.064720   0.067031   \n",
       "2     0.000000     1.000000  0.067031  0.068765 0.067031   0.068187   \n",
       "3     0.000000     1.000000  0.068187  0.068765 0.065876   0.066454   \n",
       "4     0.000000     1.000000  0.066454  0.067031 0.064720   0.065298   \n",
       "\n",
       "         adj_volume  log_return ticker  \n",
       "0 1031788800.000000         NaN   MSFT  \n",
       "1  308160000.000000    0.093526   MSFT  \n",
       "2  133171200.000000    0.035091   MSFT  \n",
       "3   67766400.000000    0.017094   MSFT  \n",
       "4   47894400.000000   -0.025752   MSFT  "
      ]
     },
     "execution_count": 71,
     "metadata": {},
     "output_type": "execute_result"
    }
   ],
   "source": [
    "msft_ibm['date'] = pd.to_datetime(msft_ibm['date'])\n",
    "msft_ibm.head()"
   ]
  },
  {
   "cell_type": "code",
   "execution_count": 72,
   "id": "J8oDXuVyo__p",
   "metadata": {
    "colab": {
     "base_uri": "https://localhost:8080/"
    },
    "id": "J8oDXuVyo__p",
    "outputId": "303f625a-0bd3-4107-c5e6-6ba979dd4c32"
   },
   "outputs": [
    {
     "name": "stdout",
     "output_type": "stream",
     "text": [
      "<class 'pandas.core.frame.DataFrame'>\n",
      "RangeIndex: 16152 entries, 0 to 16151\n",
      "Data columns (total 15 columns):\n",
      " #   Column       Non-Null Count  Dtype         \n",
      "---  ------       --------------  -----         \n",
      " 0   date         16152 non-null  datetime64[ns]\n",
      " 1   open         16152 non-null  float64       \n",
      " 2   high         16152 non-null  float64       \n",
      " 3   low          16152 non-null  float64       \n",
      " 4   close        16152 non-null  float64       \n",
      " 5   volume       16152 non-null  float64       \n",
      " 6   ex-dividend  16152 non-null  float64       \n",
      " 7   split_ratio  16152 non-null  float64       \n",
      " 8   adj_open     16152 non-null  float64       \n",
      " 9   adj_high     16152 non-null  float64       \n",
      " 10  adj_low      16152 non-null  float64       \n",
      " 11  adj_close    16152 non-null  float64       \n",
      " 12  adj_volume   16152 non-null  float64       \n",
      " 13  log_return   16150 non-null  float64       \n",
      " 14  ticker       16152 non-null  object        \n",
      "dtypes: datetime64[ns](1), float64(13), object(1)\n",
      "memory usage: 1.8+ MB\n"
     ]
    }
   ],
   "source": [
    "msft_ibm.info()"
   ]
  },
  {
   "cell_type": "markdown",
   "id": "QllsFIPypJSS",
   "metadata": {
    "id": "QllsFIPypJSS"
   },
   "source": [
    "- Now, the datet column is converted to a datetime data type."
   ]
  },
  {
   "cell_type": "markdown",
   "id": "OVIoQvUrpJZ-",
   "metadata": {
    "id": "OVIoQvUrpJZ-"
   },
   "source": [
    "#### Let's create a year column to see the dates as a year."
   ]
  },
  {
   "cell_type": "code",
   "execution_count": 73,
   "id": "a4IRarpZpAFj",
   "metadata": {
    "colab": {
     "base_uri": "https://localhost:8080/",
     "height": 206
    },
    "id": "a4IRarpZpAFj",
    "outputId": "95dde93b-dc2b-410f-fdb0-5300c3c481a8"
   },
   "outputs": [
    {
     "data": {
      "text/html": [
       "<div>\n",
       "<style scoped>\n",
       "    .dataframe tbody tr th:only-of-type {\n",
       "        vertical-align: middle;\n",
       "    }\n",
       "\n",
       "    .dataframe tbody tr th {\n",
       "        vertical-align: top;\n",
       "    }\n",
       "\n",
       "    .dataframe thead th {\n",
       "        text-align: right;\n",
       "    }\n",
       "</style>\n",
       "<table border=\"1\" class=\"dataframe\">\n",
       "  <thead>\n",
       "    <tr style=\"text-align: right;\">\n",
       "      <th></th>\n",
       "      <th>date</th>\n",
       "      <th>open</th>\n",
       "      <th>high</th>\n",
       "      <th>low</th>\n",
       "      <th>close</th>\n",
       "      <th>volume</th>\n",
       "      <th>ex-dividend</th>\n",
       "      <th>split_ratio</th>\n",
       "      <th>adj_open</th>\n",
       "      <th>adj_high</th>\n",
       "      <th>adj_low</th>\n",
       "      <th>adj_close</th>\n",
       "      <th>adj_volume</th>\n",
       "      <th>log_return</th>\n",
       "      <th>ticker</th>\n",
       "      <th>year</th>\n",
       "    </tr>\n",
       "  </thead>\n",
       "  <tbody>\n",
       "    <tr>\n",
       "      <th>0</th>\n",
       "      <td>1986-03-13</td>\n",
       "      <td>25.500000</td>\n",
       "      <td>29.250000</td>\n",
       "      <td>25.500000</td>\n",
       "      <td>28.000000</td>\n",
       "      <td>3582600.000000</td>\n",
       "      <td>0.000000</td>\n",
       "      <td>1.000000</td>\n",
       "      <td>0.058941</td>\n",
       "      <td>0.067609</td>\n",
       "      <td>0.058941</td>\n",
       "      <td>0.064720</td>\n",
       "      <td>1031788800.000000</td>\n",
       "      <td>NaN</td>\n",
       "      <td>MSFT</td>\n",
       "      <td>1986</td>\n",
       "    </tr>\n",
       "    <tr>\n",
       "      <th>1</th>\n",
       "      <td>1986-03-14</td>\n",
       "      <td>28.000000</td>\n",
       "      <td>29.500000</td>\n",
       "      <td>28.000000</td>\n",
       "      <td>29.000000</td>\n",
       "      <td>1070000.000000</td>\n",
       "      <td>0.000000</td>\n",
       "      <td>1.000000</td>\n",
       "      <td>0.064720</td>\n",
       "      <td>0.068187</td>\n",
       "      <td>0.064720</td>\n",
       "      <td>0.067031</td>\n",
       "      <td>308160000.000000</td>\n",
       "      <td>0.093526</td>\n",
       "      <td>MSFT</td>\n",
       "      <td>1986</td>\n",
       "    </tr>\n",
       "    <tr>\n",
       "      <th>2</th>\n",
       "      <td>1986-03-17</td>\n",
       "      <td>29.000000</td>\n",
       "      <td>29.750000</td>\n",
       "      <td>29.000000</td>\n",
       "      <td>29.500000</td>\n",
       "      <td>462400.000000</td>\n",
       "      <td>0.000000</td>\n",
       "      <td>1.000000</td>\n",
       "      <td>0.067031</td>\n",
       "      <td>0.068765</td>\n",
       "      <td>0.067031</td>\n",
       "      <td>0.068187</td>\n",
       "      <td>133171200.000000</td>\n",
       "      <td>0.035091</td>\n",
       "      <td>MSFT</td>\n",
       "      <td>1986</td>\n",
       "    </tr>\n",
       "    <tr>\n",
       "      <th>3</th>\n",
       "      <td>1986-03-18</td>\n",
       "      <td>29.500000</td>\n",
       "      <td>29.750000</td>\n",
       "      <td>28.500000</td>\n",
       "      <td>28.750000</td>\n",
       "      <td>235300.000000</td>\n",
       "      <td>0.000000</td>\n",
       "      <td>1.000000</td>\n",
       "      <td>0.068187</td>\n",
       "      <td>0.068765</td>\n",
       "      <td>0.065876</td>\n",
       "      <td>0.066454</td>\n",
       "      <td>67766400.000000</td>\n",
       "      <td>0.017094</td>\n",
       "      <td>MSFT</td>\n",
       "      <td>1986</td>\n",
       "    </tr>\n",
       "    <tr>\n",
       "      <th>4</th>\n",
       "      <td>1986-03-19</td>\n",
       "      <td>28.750000</td>\n",
       "      <td>29.000000</td>\n",
       "      <td>28.000000</td>\n",
       "      <td>28.250000</td>\n",
       "      <td>166300.000000</td>\n",
       "      <td>0.000000</td>\n",
       "      <td>1.000000</td>\n",
       "      <td>0.066454</td>\n",
       "      <td>0.067031</td>\n",
       "      <td>0.064720</td>\n",
       "      <td>0.065298</td>\n",
       "      <td>47894400.000000</td>\n",
       "      <td>-0.025752</td>\n",
       "      <td>MSFT</td>\n",
       "      <td>1986</td>\n",
       "    </tr>\n",
       "  </tbody>\n",
       "</table>\n",
       "</div>"
      ],
      "text/plain": [
       "        date      open      high       low     close         volume  \\\n",
       "0 1986-03-13 25.500000 29.250000 25.500000 28.000000 3582600.000000   \n",
       "1 1986-03-14 28.000000 29.500000 28.000000 29.000000 1070000.000000   \n",
       "2 1986-03-17 29.000000 29.750000 29.000000 29.500000  462400.000000   \n",
       "3 1986-03-18 29.500000 29.750000 28.500000 28.750000  235300.000000   \n",
       "4 1986-03-19 28.750000 29.000000 28.000000 28.250000  166300.000000   \n",
       "\n",
       "   ex-dividend  split_ratio  adj_open  adj_high  adj_low  adj_close  \\\n",
       "0     0.000000     1.000000  0.058941  0.067609 0.058941   0.064720   \n",
       "1     0.000000     1.000000  0.064720  0.068187 0.064720   0.067031   \n",
       "2     0.000000     1.000000  0.067031  0.068765 0.067031   0.068187   \n",
       "3     0.000000     1.000000  0.068187  0.068765 0.065876   0.066454   \n",
       "4     0.000000     1.000000  0.066454  0.067031 0.064720   0.065298   \n",
       "\n",
       "         adj_volume  log_return ticker  year  \n",
       "0 1031788800.000000         NaN   MSFT  1986  \n",
       "1  308160000.000000    0.093526   MSFT  1986  \n",
       "2  133171200.000000    0.035091   MSFT  1986  \n",
       "3   67766400.000000    0.017094   MSFT  1986  \n",
       "4   47894400.000000   -0.025752   MSFT  1986  "
      ]
     },
     "execution_count": 73,
     "metadata": {},
     "output_type": "execute_result"
    }
   ],
   "source": [
    "msft_ibm['year'] = msft_ibm['date'].dt.year\n",
    "msft_ibm.head()"
   ]
  },
  {
   "cell_type": "markdown",
   "id": "tpuplIt8nGNe",
   "metadata": {
    "id": "tpuplIt8nGNe"
   },
   "source": [
    "- Let's create lineplot showing stock prices yearly."
   ]
  },
  {
   "cell_type": "code",
   "execution_count": 74,
   "id": "NPVqz5CZp3I0",
   "metadata": {
    "colab": {
     "base_uri": "https://localhost:8080/",
     "height": 472
    },
    "id": "NPVqz5CZp3I0",
    "outputId": "5b78b74f-a0c4-4a66-ae34-a0d1271bc033"
   },
   "outputs": [
    {
     "data": {
      "image/png": "[encoded data removed]",
      "text/plain": [
       "<Figure size 640x480 with 1 Axes>"
      ]
     },
     "metadata": {},
     "output_type": "display_data"
    }
   ],
   "source": [
    "sns.lineplot(data=msft_ibm, x='date', y='close', hue='ticker')\n",
    "plt.title('Microsoft Stock-IBM Prices 1988-2016')\n",
    "plt.xlabel('Year')\n",
    "plt.ylabel('Stock Prices')\n",
    "plt.show()"
   ]
  },
  {
   "cell_type": "markdown",
   "id": "i7XbLic3esaq",
   "metadata": {
    "id": "i7XbLic3esaq"
   },
   "source": [
    "- By 1988, both stocks went Down. One factor contributing to this was the market crash of October 1987. Investors' confidence went down after the crash. Another factor influencing this deep in tech stock prices was the rise in interest rates by the Federal Reserve.\n",
    "\n",
    "- From 1996 to 2000, the two major contributors to the rise of both stocks were emerge of the dot com industry and low interest rates.\n",
    "\n",
    "- Between 2001 and 2004, both stocks went down due to the September 11, 2001 terrorist attack and the dot com market crash.\n",
    "\n",
    "- Starting in 2004, Microsoft shares went flat but IBM shares had some steady growth. However, both went down by 2009 due to the Mortgage Financial crisis of 2008."
   ]
  },
  {
   "cell_type": "markdown",
   "id": "KIxEeUhBsZ1x",
   "metadata": {
    "id": "KIxEeUhBsZ1x"
   },
   "source": [
    "#### Now, let's check the behavior of the returns through the years."
   ]
  },
  {
   "cell_type": "code",
   "execution_count": 75,
   "id": "rjCvN6qMtSSj",
   "metadata": {
    "colab": {
     "base_uri": "https://localhost:8080/",
     "height": 607
    },
    "id": "rjCvN6qMtSSj",
    "outputId": "fece003b-7c97-4ded-b5a1-e598d9107dbf"
   },
   "outputs": [
    {
     "data": {
      "image/png": "[encoded data removed]",
      "text/plain": [
       "<Figure size 600x600 with 2 Axes>"
      ]
     },
     "metadata": {},
     "output_type": "display_data"
    }
   ],
   "source": [
    "fig, axs = plt.subplots(nrows=2, figsize = (6,6))\n",
    "#plt.xticks(rotation=90)\n",
    "sns.lineplot(ax = axs[0], x=\"date\", y = \"log_return\", data=msft_ibm[msft_ibm['ticker'] == 'MSFT'], label='MSFT', color='orange')\n",
    "sns.lineplot(ax = axs[1], x=\"date\", y = \"log_return\", data=msft_ibm[msft_ibm['ticker'] == 'IBM'], label='IBM', color='purple')\n",
    "axs[0].set_title('Microsoft Returns')\n",
    "axs[1].set_title('IBM Returns')\n",
    "axs[0].set_xlabel('Year')\n",
    "axs[0].set_ylabel('Returns')\n",
    "axs[1].set_xlabel('Year')\n",
    "axs[1].set_ylabel('Returns')\n",
    "plt.tight_layout()\n",
    "plt.show()"
   ]
  },
  {
   "cell_type": "markdown",
   "id": "s2FKKGXj38be",
   "metadata": {
    "id": "s2FKKGXj38be"
   },
   "source": [
    "- As expected, both stocks' returns were negative as both stocks' prices registered a big decline due to the 1987 stock crash. However, Microsoft's returns went even lower by 0.04 points. By around 1990, Microsoft's returns were much higher at 0.10 than IBM's with less than 0.05.\n",
    "\n",
    "- During the dot com era, IBM stocks outperformed Microsoft. In 1996 and 2001, IBM stocks had returns of over 0.10 percentage points.\n",
    "\n",
    "- During the 2008 mortgage crisis both stocks underperformed resulting in negative returns.\n"
   ]
  },
  {
   "cell_type": "markdown",
   "id": "bVLvOsSMBP_Z",
   "metadata": {
    "id": "bVLvOsSMBP_Z"
   },
   "source": [
    "### Now, let's create a pivot table to summarize some of the measures such as the mean and median for the open-price and return columns."
   ]
  },
  {
   "cell_type": "code",
   "execution_count": 76,
   "id": "szdtHtBzu9ze",
   "metadata": {
    "colab": {
     "base_uri": "https://localhost:8080/",
     "height": 175
    },
    "id": "szdtHtBzu9ze",
    "outputId": "26b95204-58c5-4cce-da37-8c70f5135cde"
   },
   "outputs": [
    {
     "data": {
      "text/html": [
       "<div>\n",
       "<style scoped>\n",
       "    .dataframe tbody tr th:only-of-type {\n",
       "        vertical-align: middle;\n",
       "    }\n",
       "\n",
       "    .dataframe tbody tr th {\n",
       "        vertical-align: top;\n",
       "    }\n",
       "\n",
       "    .dataframe thead tr th {\n",
       "        text-align: left;\n",
       "    }\n",
       "\n",
       "    .dataframe thead tr:last-of-type th {\n",
       "        text-align: right;\n",
       "    }\n",
       "</style>\n",
       "<table border=\"1\" class=\"dataframe\">\n",
       "  <thead>\n",
       "    <tr>\n",
       "      <th></th>\n",
       "      <th colspan=\"2\" halign=\"left\">mean</th>\n",
       "      <th colspan=\"2\" halign=\"left\">median</th>\n",
       "      <th colspan=\"2\" halign=\"left\">max</th>\n",
       "      <th colspan=\"2\" halign=\"left\">min</th>\n",
       "    </tr>\n",
       "    <tr>\n",
       "      <th></th>\n",
       "      <th>log_return</th>\n",
       "      <th>open</th>\n",
       "      <th>log_return</th>\n",
       "      <th>open</th>\n",
       "      <th>log_return</th>\n",
       "      <th>open</th>\n",
       "      <th>log_return</th>\n",
       "      <th>open</th>\n",
       "    </tr>\n",
       "    <tr>\n",
       "      <th>ticker</th>\n",
       "      <th></th>\n",
       "      <th></th>\n",
       "      <th></th>\n",
       "      <th></th>\n",
       "      <th></th>\n",
       "      <th></th>\n",
       "      <th></th>\n",
       "      <th></th>\n",
       "    </tr>\n",
       "  </thead>\n",
       "  <tbody>\n",
       "    <tr>\n",
       "      <th>IBM</th>\n",
       "      <td>0.000184</td>\n",
       "      <td>119.793670</td>\n",
       "      <td>0.000000</td>\n",
       "      <td>113.250000</td>\n",
       "      <td>0.122033</td>\n",
       "      <td>241.500000</td>\n",
       "      <td>-0.268122</td>\n",
       "      <td>41.000000</td>\n",
       "    </tr>\n",
       "    <tr>\n",
       "      <th>MSFT</th>\n",
       "      <td>0.000557</td>\n",
       "      <td>59.832154</td>\n",
       "      <td>0.000000</td>\n",
       "      <td>54.250000</td>\n",
       "      <td>0.146328</td>\n",
       "      <td>178.940000</td>\n",
       "      <td>-0.306835</td>\n",
       "      <td>15.200000</td>\n",
       "    </tr>\n",
       "  </tbody>\n",
       "</table>\n",
       "</div>"
      ],
      "text/plain": [
       "             mean                median                   max             \\\n",
       "       log_return       open log_return       open log_return       open   \n",
       "ticker                                                                     \n",
       "IBM      0.000184 119.793670   0.000000 113.250000   0.122033 241.500000   \n",
       "MSFT     0.000557  59.832154   0.000000  54.250000   0.146328 178.940000   \n",
       "\n",
       "              min            \n",
       "       log_return      open  \n",
       "ticker                       \n",
       "IBM     -0.268122 41.000000  \n",
       "MSFT    -0.306835 15.200000  "
      ]
     },
     "execution_count": 76,
     "metadata": {},
     "output_type": "execute_result"
    }
   ],
   "source": [
    "msft_ibm.pivot_table(index='ticker', values=['open', 'log_return'], aggfunc=['mean', 'median', 'max', 'min'])"
   ]
  },
  {
   "cell_type": "markdown",
   "id": "Nw8DfYcyD_bl",
   "metadata": {
    "id": "Nw8DfYcyD_bl"
   },
   "source": [
    "### Let's create three more pivot tables grouped by year to summarize the same measurements in three different periods: 1987-1996, 1997-2006, and 2007-2016."
   ]
  },
  {
   "cell_type": "markdown",
   "id": "Wq1krcygKwi4",
   "metadata": {
    "id": "Wq1krcygKwi4"
   },
   "source": [
    "### Period 1987-1996"
   ]
  },
  {
   "cell_type": "code",
   "execution_count": 77,
   "id": "DjtpbzB6DXlp",
   "metadata": {
    "colab": {
     "base_uri": "https://localhost:8080/",
     "height": 739
    },
    "id": "DjtpbzB6DXlp",
    "outputId": "60a9e87f-4f09-4fe3-d7b7-52ab048cdee1"
   },
   "outputs": [
    {
     "data": {
      "text/html": [
       "<div>\n",
       "<style scoped>\n",
       "    .dataframe tbody tr th:only-of-type {\n",
       "        vertical-align: middle;\n",
       "    }\n",
       "\n",
       "    .dataframe tbody tr th {\n",
       "        vertical-align: top;\n",
       "    }\n",
       "\n",
       "    .dataframe thead tr th {\n",
       "        text-align: left;\n",
       "    }\n",
       "\n",
       "    .dataframe thead tr:last-of-type th {\n",
       "        text-align: right;\n",
       "    }\n",
       "</style>\n",
       "<table border=\"1\" class=\"dataframe\">\n",
       "  <thead>\n",
       "    <tr>\n",
       "      <th></th>\n",
       "      <th></th>\n",
       "      <th colspan=\"2\" halign=\"left\">mean</th>\n",
       "      <th colspan=\"2\" halign=\"left\">median</th>\n",
       "      <th colspan=\"2\" halign=\"left\">max</th>\n",
       "      <th colspan=\"2\" halign=\"left\">min</th>\n",
       "    </tr>\n",
       "    <tr>\n",
       "      <th></th>\n",
       "      <th></th>\n",
       "      <th>log_return</th>\n",
       "      <th>open</th>\n",
       "      <th>log_return</th>\n",
       "      <th>open</th>\n",
       "      <th>log_return</th>\n",
       "      <th>open</th>\n",
       "      <th>log_return</th>\n",
       "      <th>open</th>\n",
       "    </tr>\n",
       "    <tr>\n",
       "      <th>year</th>\n",
       "      <th>ticker</th>\n",
       "      <th></th>\n",
       "      <th></th>\n",
       "      <th></th>\n",
       "      <th></th>\n",
       "      <th></th>\n",
       "      <th></th>\n",
       "      <th></th>\n",
       "      <th></th>\n",
       "    </tr>\n",
       "  </thead>\n",
       "  <tbody>\n",
       "    <tr>\n",
       "      <th rowspan=\"2\" valign=\"top\">1987</th>\n",
       "      <th>IBM</th>\n",
       "      <td>-0.000610</td>\n",
       "      <td>145.088814</td>\n",
       "      <td>0.000000</td>\n",
       "      <td>150.500000</td>\n",
       "      <td>0.052299</td>\n",
       "      <td>175.000000</td>\n",
       "      <td>-0.268122</td>\n",
       "      <td>105.750000</td>\n",
       "    </tr>\n",
       "    <tr>\n",
       "      <th>MSFT</th>\n",
       "      <td>0.003016</td>\n",
       "      <td>82.808735</td>\n",
       "      <td>0.002448</td>\n",
       "      <td>89.500000</td>\n",
       "      <td>0.146328</td>\n",
       "      <td>126.500000</td>\n",
       "      <td>-0.306835</td>\n",
       "      <td>40.000000</td>\n",
       "    </tr>\n",
       "    <tr>\n",
       "      <th rowspan=\"2\" valign=\"top\">1988</th>\n",
       "      <th>IBM</th>\n",
       "      <td>-0.000238</td>\n",
       "      <td>116.535968</td>\n",
       "      <td>-0.000997</td>\n",
       "      <td>115.500000</td>\n",
       "      <td>0.038510</td>\n",
       "      <td>129.130000</td>\n",
       "      <td>-0.068383</td>\n",
       "      <td>104.620000</td>\n",
       "    </tr>\n",
       "    <tr>\n",
       "      <th>MSFT</th>\n",
       "      <td>-0.000540</td>\n",
       "      <td>55.530751</td>\n",
       "      <td>0.000000</td>\n",
       "      <td>55.250000</td>\n",
       "      <td>0.044452</td>\n",
       "      <td>69.750000</td>\n",
       "      <td>-0.090225</td>\n",
       "      <td>46.000000</td>\n",
       "    </tr>\n",
       "    <tr>\n",
       "      <th rowspan=\"2\" valign=\"top\">1989</th>\n",
       "      <th>IBM</th>\n",
       "      <td>-0.000680</td>\n",
       "      <td>111.683333</td>\n",
       "      <td>0.000000</td>\n",
       "      <td>112.250000</td>\n",
       "      <td>0.044672</td>\n",
       "      <td>129.750000</td>\n",
       "      <td>-0.051308</td>\n",
       "      <td>93.620000</td>\n",
       "    </tr>\n",
       "    <tr>\n",
       "      <th>MSFT</th>\n",
       "      <td>0.001340</td>\n",
       "      <td>62.607500</td>\n",
       "      <td>0.002136</td>\n",
       "      <td>58.440000</td>\n",
       "      <td>0.090026</td>\n",
       "      <td>89.000000</td>\n",
       "      <td>-0.110488</td>\n",
       "      <td>46.380000</td>\n",
       "    </tr>\n",
       "    <tr>\n",
       "      <th rowspan=\"2\" valign=\"top\">1990</th>\n",
       "      <th>IBM</th>\n",
       "      <td>0.000624</td>\n",
       "      <td>108.666245</td>\n",
       "      <td>0.000000</td>\n",
       "      <td>107.750000</td>\n",
       "      <td>0.035013</td>\n",
       "      <td>122.500000</td>\n",
       "      <td>-0.038444</td>\n",
       "      <td>94.750000</td>\n",
       "    </tr>\n",
       "    <tr>\n",
       "      <th>MSFT</th>\n",
       "      <td>0.001893</td>\n",
       "      <td>76.402846</td>\n",
       "      <td>0.001177</td>\n",
       "      <td>73.000000</td>\n",
       "      <td>0.091388</td>\n",
       "      <td>121.750000</td>\n",
       "      <td>-0.082120</td>\n",
       "      <td>52.250000</td>\n",
       "    </tr>\n",
       "    <tr>\n",
       "      <th rowspan=\"2\" valign=\"top\">1991</th>\n",
       "      <th>IBM</th>\n",
       "      <td>-0.000926</td>\n",
       "      <td>105.672885</td>\n",
       "      <td>-0.001078</td>\n",
       "      <td>102.370000</td>\n",
       "      <td>0.027339</td>\n",
       "      <td>138.250000</td>\n",
       "      <td>-0.048723</td>\n",
       "      <td>85.370000</td>\n",
       "    </tr>\n",
       "    <tr>\n",
       "      <th>MSFT</th>\n",
       "      <td>0.003235</td>\n",
       "      <td>93.366917</td>\n",
       "      <td>0.001208</td>\n",
       "      <td>96.250000</td>\n",
       "      <td>0.097926</td>\n",
       "      <td>114.000000</td>\n",
       "      <td>-0.059890</td>\n",
       "      <td>60.750000</td>\n",
       "    </tr>\n",
       "    <tr>\n",
       "      <th rowspan=\"2\" valign=\"top\">1992</th>\n",
       "      <th>IBM</th>\n",
       "      <td>-0.001736</td>\n",
       "      <td>83.985669</td>\n",
       "      <td>-0.001868</td>\n",
       "      <td>88.370000</td>\n",
       "      <td>0.034401</td>\n",
       "      <td>99.000000</td>\n",
       "      <td>-0.064672</td>\n",
       "      <td>50.000000</td>\n",
       "    </tr>\n",
       "    <tr>\n",
       "      <th>MSFT</th>\n",
       "      <td>-0.000481</td>\n",
       "      <td>98.195709</td>\n",
       "      <td>0.000000</td>\n",
       "      <td>92.000000</td>\n",
       "      <td>0.058371</td>\n",
       "      <td>131.250000</td>\n",
       "      <td>-0.052605</td>\n",
       "      <td>68.000000</td>\n",
       "    </tr>\n",
       "    <tr>\n",
       "      <th rowspan=\"2\" valign=\"top\">1993</th>\n",
       "      <th>IBM</th>\n",
       "      <td>-0.001699</td>\n",
       "      <td>49.235296</td>\n",
       "      <td>-0.002427</td>\n",
       "      <td>49.250000</td>\n",
       "      <td>0.047628</td>\n",
       "      <td>59.250000</td>\n",
       "      <td>-0.076205</td>\n",
       "      <td>41.000000</td>\n",
       "    </tr>\n",
       "    <tr>\n",
       "      <th>MSFT</th>\n",
       "      <td>-0.000214</td>\n",
       "      <td>83.494466</td>\n",
       "      <td>-0.001426</td>\n",
       "      <td>83.500000</td>\n",
       "      <td>0.059820</td>\n",
       "      <td>95.750000</td>\n",
       "      <td>-0.039609</td>\n",
       "      <td>71.250000</td>\n",
       "    </tr>\n",
       "    <tr>\n",
       "      <th rowspan=\"2\" valign=\"top\">1994</th>\n",
       "      <th>IBM</th>\n",
       "      <td>0.000507</td>\n",
       "      <td>62.840714</td>\n",
       "      <td>0.000000</td>\n",
       "      <td>62.065000</td>\n",
       "      <td>0.059640</td>\n",
       "      <td>75.620000</td>\n",
       "      <td>-0.065139</td>\n",
       "      <td>52.130000</td>\n",
       "    </tr>\n",
       "    <tr>\n",
       "      <th>MSFT</th>\n",
       "      <td>0.001021</td>\n",
       "      <td>67.740397</td>\n",
       "      <td>0.000000</td>\n",
       "      <td>62.500000</td>\n",
       "      <td>0.041923</td>\n",
       "      <td>98.000000</td>\n",
       "      <td>-0.047346</td>\n",
       "      <td>48.250000</td>\n",
       "    </tr>\n",
       "    <tr>\n",
       "      <th rowspan=\"2\" valign=\"top\">1995</th>\n",
       "      <th>IBM</th>\n",
       "      <td>0.000083</td>\n",
       "      <td>91.899960</td>\n",
       "      <td>0.000000</td>\n",
       "      <td>93.870000</td>\n",
       "      <td>0.046161</td>\n",
       "      <td>113.870000</td>\n",
       "      <td>-0.042368</td>\n",
       "      <td>72.000000</td>\n",
       "    </tr>\n",
       "    <tr>\n",
       "      <th>MSFT</th>\n",
       "      <td>0.000232</td>\n",
       "      <td>83.039127</td>\n",
       "      <td>0.000000</td>\n",
       "      <td>87.310000</td>\n",
       "      <td>0.053215</td>\n",
       "      <td>107.750000</td>\n",
       "      <td>-0.058496</td>\n",
       "      <td>58.750000</td>\n",
       "    </tr>\n",
       "    <tr>\n",
       "      <th rowspan=\"2\" valign=\"top\">1996</th>\n",
       "      <th>IBM</th>\n",
       "      <td>0.001689</td>\n",
       "      <td>116.933307</td>\n",
       "      <td>0.001198</td>\n",
       "      <td>113.310000</td>\n",
       "      <td>0.076382</td>\n",
       "      <td>163.630000</td>\n",
       "      <td>-0.103696</td>\n",
       "      <td>84.120000</td>\n",
       "    </tr>\n",
       "    <tr>\n",
       "      <th>MSFT</th>\n",
       "      <td>0.001522</td>\n",
       "      <td>115.337756</td>\n",
       "      <td>0.000957</td>\n",
       "      <td>117.870000</td>\n",
       "      <td>0.046831</td>\n",
       "      <td>158.380000</td>\n",
       "      <td>-0.069948</td>\n",
       "      <td>76.620000</td>\n",
       "    </tr>\n",
       "  </tbody>\n",
       "</table>\n",
       "</div>"
      ],
      "text/plain": [
       "                  mean                median                   max             \\\n",
       "            log_return       open log_return       open log_return       open   \n",
       "year ticker                                                                     \n",
       "1987 IBM     -0.000610 145.088814   0.000000 150.500000   0.052299 175.000000   \n",
       "     MSFT     0.003016  82.808735   0.002448  89.500000   0.146328 126.500000   \n",
       "1988 IBM     -0.000238 116.535968  -0.000997 115.500000   0.038510 129.130000   \n",
       "     MSFT    -0.000540  55.530751   0.000000  55.250000   0.044452  69.750000   \n",
       "1989 IBM     -0.000680 111.683333   0.000000 112.250000   0.044672 129.750000   \n",
       "     MSFT     0.001340  62.607500   0.002136  58.440000   0.090026  89.000000   \n",
       "1990 IBM      0.000624 108.666245   0.000000 107.750000   0.035013 122.500000   \n",
       "     MSFT     0.001893  76.402846   0.001177  73.000000   0.091388 121.750000   \n",
       "1991 IBM     -0.000926 105.672885  -0.001078 102.370000   0.027339 138.250000   \n",
       "     MSFT     0.003235  93.366917   0.001208  96.250000   0.097926 114.000000   \n",
       "1992 IBM     -0.001736  83.985669  -0.001868  88.370000   0.034401  99.000000   \n",
       "     MSFT    -0.000481  98.195709   0.000000  92.000000   0.058371 131.250000   \n",
       "1993 IBM     -0.001699  49.235296  -0.002427  49.250000   0.047628  59.250000   \n",
       "     MSFT    -0.000214  83.494466  -0.001426  83.500000   0.059820  95.750000   \n",
       "1994 IBM      0.000507  62.840714   0.000000  62.065000   0.059640  75.620000   \n",
       "     MSFT     0.001021  67.740397   0.000000  62.500000   0.041923  98.000000   \n",
       "1995 IBM      0.000083  91.899960   0.000000  93.870000   0.046161 113.870000   \n",
       "     MSFT     0.000232  83.039127   0.000000  87.310000   0.053215 107.750000   \n",
       "1996 IBM      0.001689 116.933307   0.001198 113.310000   0.076382 163.630000   \n",
       "     MSFT     0.001522 115.337756   0.000957 117.870000   0.046831 158.380000   \n",
       "\n",
       "                   min             \n",
       "            log_return       open  \n",
       "year ticker                        \n",
       "1987 IBM     -0.268122 105.750000  \n",
       "     MSFT    -0.306835  40.000000  \n",
       "1988 IBM     -0.068383 104.620000  \n",
       "     MSFT    -0.090225  46.000000  \n",
       "1989 IBM     -0.051308  93.620000  \n",
       "     MSFT    -0.110488  46.380000  \n",
       "1990 IBM     -0.038444  94.750000  \n",
       "     MSFT    -0.082120  52.250000  \n",
       "1991 IBM     -0.048723  85.370000  \n",
       "     MSFT    -0.059890  60.750000  \n",
       "1992 IBM     -0.064672  50.000000  \n",
       "     MSFT    -0.052605  68.000000  \n",
       "1993 IBM     -0.076205  41.000000  \n",
       "     MSFT    -0.039609  71.250000  \n",
       "1994 IBM     -0.065139  52.130000  \n",
       "     MSFT    -0.047346  48.250000  \n",
       "1995 IBM     -0.042368  72.000000  \n",
       "     MSFT    -0.058496  58.750000  \n",
       "1996 IBM     -0.103696  84.120000  \n",
       "     MSFT    -0.069948  76.620000  "
      ]
     },
     "execution_count": 77,
     "metadata": {},
     "output_type": "execute_result"
    }
   ],
   "source": [
    "filtered_msft_ibm_1987_1996 = msft_ibm.query('year >= 1987 and year <= 1996') # Using the query() method to filter the years.\n",
    "filtered_msft_ibm_1987_1996.pivot_table(index=['year', 'ticker'], values=['open', 'log_return'], aggfunc=['mean', 'median', 'max', 'min']) # Craeting pivot table."
   ]
  },
  {
   "cell_type": "markdown",
   "id": "TODAoP7pLByO",
   "metadata": {
    "id": "TODAoP7pLByO"
   },
   "source": [
    "### Period 1997-2006"
   ]
  },
  {
   "cell_type": "code",
   "execution_count": 78,
   "id": "_wDWsXWaEwVM",
   "metadata": {
    "colab": {
     "base_uri": "https://localhost:8080/",
     "height": 739
    },
    "id": "_wDWsXWaEwVM",
    "outputId": "25ae5e50-2e89-4726-91b0-5cd28204222d"
   },
   "outputs": [
    {
     "data": {
      "text/html": [
       "<div>\n",
       "<style scoped>\n",
       "    .dataframe tbody tr th:only-of-type {\n",
       "        vertical-align: middle;\n",
       "    }\n",
       "\n",
       "    .dataframe tbody tr th {\n",
       "        vertical-align: top;\n",
       "    }\n",
       "\n",
       "    .dataframe thead tr th {\n",
       "        text-align: left;\n",
       "    }\n",
       "\n",
       "    .dataframe thead tr:last-of-type th {\n",
       "        text-align: right;\n",
       "    }\n",
       "</style>\n",
       "<table border=\"1\" class=\"dataframe\">\n",
       "  <thead>\n",
       "    <tr>\n",
       "      <th></th>\n",
       "      <th></th>\n",
       "      <th colspan=\"2\" halign=\"left\">mean</th>\n",
       "      <th colspan=\"2\" halign=\"left\">median</th>\n",
       "      <th colspan=\"2\" halign=\"left\">max</th>\n",
       "      <th colspan=\"2\" halign=\"left\">min</th>\n",
       "    </tr>\n",
       "    <tr>\n",
       "      <th></th>\n",
       "      <th></th>\n",
       "      <th>log_return</th>\n",
       "      <th>open</th>\n",
       "      <th>log_return</th>\n",
       "      <th>open</th>\n",
       "      <th>log_return</th>\n",
       "      <th>open</th>\n",
       "      <th>log_return</th>\n",
       "      <th>open</th>\n",
       "    </tr>\n",
       "    <tr>\n",
       "      <th>year</th>\n",
       "      <th>ticker</th>\n",
       "      <th></th>\n",
       "      <th></th>\n",
       "      <th></th>\n",
       "      <th></th>\n",
       "      <th></th>\n",
       "      <th></th>\n",
       "      <th></th>\n",
       "      <th></th>\n",
       "    </tr>\n",
       "  </thead>\n",
       "  <tbody>\n",
       "    <tr>\n",
       "      <th rowspan=\"2\" valign=\"top\">1997</th>\n",
       "      <th>IBM</th>\n",
       "      <td>-0.000299</td>\n",
       "      <td>120.460949</td>\n",
       "      <td>-0.000817</td>\n",
       "      <td>105.620000</td>\n",
       "      <td>0.110214</td>\n",
       "      <td>175.130000</td>\n",
       "      <td>-0.077475</td>\n",
       "      <td>83.500000</td>\n",
       "    </tr>\n",
       "    <tr>\n",
       "      <th>MSFT</th>\n",
       "      <td>0.000636</td>\n",
       "      <td>120.898696</td>\n",
       "      <td>-0.001873</td>\n",
       "      <td>129.380000</td>\n",
       "      <td>0.060419</td>\n",
       "      <td>150.500000</td>\n",
       "      <td>-0.047157</td>\n",
       "      <td>82.000000</td>\n",
       "    </tr>\n",
       "    <tr>\n",
       "      <th rowspan=\"2\" valign=\"top\">1998</th>\n",
       "      <th>IBM</th>\n",
       "      <td>0.001518</td>\n",
       "      <td>124.237817</td>\n",
       "      <td>0.000666</td>\n",
       "      <td>119.625000</td>\n",
       "      <td>0.065022</td>\n",
       "      <td>188.630000</td>\n",
       "      <td>-0.088165</td>\n",
       "      <td>96.750000</td>\n",
       "    </tr>\n",
       "    <tr>\n",
       "      <th>MSFT</th>\n",
       "      <td>0.002892</td>\n",
       "      <td>107.951905</td>\n",
       "      <td>0.003786</td>\n",
       "      <td>105.780000</td>\n",
       "      <td>0.074108</td>\n",
       "      <td>159.380000</td>\n",
       "      <td>-0.088998</td>\n",
       "      <td>79.250000</td>\n",
       "    </tr>\n",
       "    <tr>\n",
       "      <th rowspan=\"2\" valign=\"top\">1999</th>\n",
       "      <th>IBM</th>\n",
       "      <td>-0.002055</td>\n",
       "      <td>145.287817</td>\n",
       "      <td>-0.002880</td>\n",
       "      <td>128.000000</td>\n",
       "      <td>0.057719</td>\n",
       "      <td>241.500000</td>\n",
       "      <td>-0.060993</td>\n",
       "      <td>90.500000</td>\n",
       "    </tr>\n",
       "    <tr>\n",
       "      <th>MSFT</th>\n",
       "      <td>-0.000693</td>\n",
       "      <td>105.874365</td>\n",
       "      <td>-0.000669</td>\n",
       "      <td>92.310000</td>\n",
       "      <td>0.095532</td>\n",
       "      <td>178.940000</td>\n",
       "      <td>-0.069964</td>\n",
       "      <td>76.750000</td>\n",
       "    </tr>\n",
       "    <tr>\n",
       "      <th rowspan=\"2\" valign=\"top\">2000</th>\n",
       "      <th>IBM</th>\n",
       "      <td>-0.000612</td>\n",
       "      <td>110.688056</td>\n",
       "      <td>-0.001062</td>\n",
       "      <td>111.905000</td>\n",
       "      <td>0.074197</td>\n",
       "      <td>133.060000</td>\n",
       "      <td>-0.102496</td>\n",
       "      <td>83.500000</td>\n",
       "    </tr>\n",
       "    <tr>\n",
       "      <th>MSFT</th>\n",
       "      <td>-0.003084</td>\n",
       "      <td>76.428373</td>\n",
       "      <td>-0.003097</td>\n",
       "      <td>70.690000</td>\n",
       "      <td>0.063925</td>\n",
       "      <td>117.370000</td>\n",
       "      <td>-0.077439</td>\n",
       "      <td>40.750000</td>\n",
       "    </tr>\n",
       "    <tr>\n",
       "      <th rowspan=\"2\" valign=\"top\">2001</th>\n",
       "      <th>IBM</th>\n",
       "      <td>0.001745</td>\n",
       "      <td>107.335847</td>\n",
       "      <td>0.001496</td>\n",
       "      <td>107.800000</td>\n",
       "      <td>0.122033</td>\n",
       "      <td>123.890000</td>\n",
       "      <td>-0.055915</td>\n",
       "      <td>83.750000</td>\n",
       "    </tr>\n",
       "    <tr>\n",
       "      <th>MSFT</th>\n",
       "      <td>0.002665</td>\n",
       "      <td>62.394839</td>\n",
       "      <td>0.000151</td>\n",
       "      <td>63.145000</td>\n",
       "      <td>0.104341</td>\n",
       "      <td>73.700000</td>\n",
       "      <td>-0.053682</td>\n",
       "      <td>43.190000</td>\n",
       "    </tr>\n",
       "    <tr>\n",
       "      <th rowspan=\"2\" valign=\"top\">2002</th>\n",
       "      <th>IBM</th>\n",
       "      <td>-0.001106</td>\n",
       "      <td>84.289643</td>\n",
       "      <td>-0.001713</td>\n",
       "      <td>80.400000</td>\n",
       "      <td>0.058041</td>\n",
       "      <td>125.000000</td>\n",
       "      <td>-0.072321</td>\n",
       "      <td>54.650000</td>\n",
       "    </tr>\n",
       "    <tr>\n",
       "      <th>MSFT</th>\n",
       "      <td>-0.000534</td>\n",
       "      <td>54.579921</td>\n",
       "      <td>-0.000481</td>\n",
       "      <td>53.845000</td>\n",
       "      <td>0.101929</td>\n",
       "      <td>69.750000</td>\n",
       "      <td>-0.077805</td>\n",
       "      <td>41.750000</td>\n",
       "    </tr>\n",
       "    <tr>\n",
       "      <th rowspan=\"2\" valign=\"top\">2003</th>\n",
       "      <th>IBM</th>\n",
       "      <td>0.000916</td>\n",
       "      <td>85.035754</td>\n",
       "      <td>-0.000061</td>\n",
       "      <td>84.770000</td>\n",
       "      <td>0.055605</td>\n",
       "      <td>93.900000</td>\n",
       "      <td>-0.037598</td>\n",
       "      <td>75.250000</td>\n",
       "    </tr>\n",
       "    <tr>\n",
       "      <th>MSFT</th>\n",
       "      <td>-0.001337</td>\n",
       "      <td>29.276746</td>\n",
       "      <td>-0.001653</td>\n",
       "      <td>26.280000</td>\n",
       "      <td>0.055911</td>\n",
       "      <td>57.000000</td>\n",
       "      <td>-0.042802</td>\n",
       "      <td>22.810000</td>\n",
       "    </tr>\n",
       "    <tr>\n",
       "      <th rowspan=\"2\" valign=\"top\">2004</th>\n",
       "      <th>IBM</th>\n",
       "      <td>0.000549</td>\n",
       "      <td>90.724246</td>\n",
       "      <td>0.000874</td>\n",
       "      <td>90.240000</td>\n",
       "      <td>0.022229</td>\n",
       "      <td>100.060000</td>\n",
       "      <td>-0.020784</td>\n",
       "      <td>82.540000</td>\n",
       "    </tr>\n",
       "    <tr>\n",
       "      <th>MSFT</th>\n",
       "      <td>-0.000206</td>\n",
       "      <td>27.129893</td>\n",
       "      <td>0.000000</td>\n",
       "      <td>27.220000</td>\n",
       "      <td>0.026294</td>\n",
       "      <td>30.160000</td>\n",
       "      <td>-0.024409</td>\n",
       "      <td>24.360000</td>\n",
       "    </tr>\n",
       "    <tr>\n",
       "      <th rowspan=\"2\" valign=\"top\">2005</th>\n",
       "      <th>IBM</th>\n",
       "      <td>-0.000312</td>\n",
       "      <td>83.812817</td>\n",
       "      <td>-0.000581</td>\n",
       "      <td>82.840000</td>\n",
       "      <td>0.029242</td>\n",
       "      <td>98.970000</td>\n",
       "      <td>-0.047063</td>\n",
       "      <td>72.530000</td>\n",
       "    </tr>\n",
       "    <tr>\n",
       "      <th>MSFT</th>\n",
       "      <td>-0.000074</td>\n",
       "      <td>25.872587</td>\n",
       "      <td>-0.001153</td>\n",
       "      <td>25.740000</td>\n",
       "      <td>0.034532</td>\n",
       "      <td>28.200000</td>\n",
       "      <td>-0.024396</td>\n",
       "      <td>23.990000</td>\n",
       "    </tr>\n",
       "    <tr>\n",
       "      <th rowspan=\"2\" valign=\"top\">2006</th>\n",
       "      <th>IBM</th>\n",
       "      <td>0.001325</td>\n",
       "      <td>82.994422</td>\n",
       "      <td>0.001746</td>\n",
       "      <td>81.760000</td>\n",
       "      <td>0.020954</td>\n",
       "      <td>97.110000</td>\n",
       "      <td>-0.025211</td>\n",
       "      <td>73.340000</td>\n",
       "    </tr>\n",
       "    <tr>\n",
       "      <th>MSFT</th>\n",
       "      <td>0.000893</td>\n",
       "      <td>26.264040</td>\n",
       "      <td>0.001000</td>\n",
       "      <td>26.880000</td>\n",
       "      <td>0.029113</td>\n",
       "      <td>30.190000</td>\n",
       "      <td>-0.035195</td>\n",
       "      <td>21.590000</td>\n",
       "    </tr>\n",
       "  </tbody>\n",
       "</table>\n",
       "</div>"
      ],
      "text/plain": [
       "                  mean                median                   max             \\\n",
       "            log_return       open log_return       open log_return       open   \n",
       "year ticker                                                                     \n",
       "1997 IBM     -0.000299 120.460949  -0.000817 105.620000   0.110214 175.130000   \n",
       "     MSFT     0.000636 120.898696  -0.001873 129.380000   0.060419 150.500000   \n",
       "1998 IBM      0.001518 124.237817   0.000666 119.625000   0.065022 188.630000   \n",
       "     MSFT     0.002892 107.951905   0.003786 105.780000   0.074108 159.380000   \n",
       "1999 IBM     -0.002055 145.287817  -0.002880 128.000000   0.057719 241.500000   \n",
       "     MSFT    -0.000693 105.874365  -0.000669  92.310000   0.095532 178.940000   \n",
       "2000 IBM     -0.000612 110.688056  -0.001062 111.905000   0.074197 133.060000   \n",
       "     MSFT    -0.003084  76.428373  -0.003097  70.690000   0.063925 117.370000   \n",
       "2001 IBM      0.001745 107.335847   0.001496 107.800000   0.122033 123.890000   \n",
       "     MSFT     0.002665  62.394839   0.000151  63.145000   0.104341  73.700000   \n",
       "2002 IBM     -0.001106  84.289643  -0.001713  80.400000   0.058041 125.000000   \n",
       "     MSFT    -0.000534  54.579921  -0.000481  53.845000   0.101929  69.750000   \n",
       "2003 IBM      0.000916  85.035754  -0.000061  84.770000   0.055605  93.900000   \n",
       "     MSFT    -0.001337  29.276746  -0.001653  26.280000   0.055911  57.000000   \n",
       "2004 IBM      0.000549  90.724246   0.000874  90.240000   0.022229 100.060000   \n",
       "     MSFT    -0.000206  27.129893   0.000000  27.220000   0.026294  30.160000   \n",
       "2005 IBM     -0.000312  83.812817  -0.000581  82.840000   0.029242  98.970000   \n",
       "     MSFT    -0.000074  25.872587  -0.001153  25.740000   0.034532  28.200000   \n",
       "2006 IBM      0.001325  82.994422   0.001746  81.760000   0.020954  97.110000   \n",
       "     MSFT     0.000893  26.264040   0.001000  26.880000   0.029113  30.190000   \n",
       "\n",
       "                   min            \n",
       "            log_return      open  \n",
       "year ticker                       \n",
       "1997 IBM     -0.077475 83.500000  \n",
       "     MSFT    -0.047157 82.000000  \n",
       "1998 IBM     -0.088165 96.750000  \n",
       "     MSFT    -0.088998 79.250000  \n",
       "1999 IBM     -0.060993 90.500000  \n",
       "     MSFT    -0.069964 76.750000  \n",
       "2000 IBM     -0.102496 83.500000  \n",
       "     MSFT    -0.077439 40.750000  \n",
       "2001 IBM     -0.055915 83.750000  \n",
       "     MSFT    -0.053682 43.190000  \n",
       "2002 IBM     -0.072321 54.650000  \n",
       "     MSFT    -0.077805 41.750000  \n",
       "2003 IBM     -0.037598 75.250000  \n",
       "     MSFT    -0.042802 22.810000  \n",
       "2004 IBM     -0.020784 82.540000  \n",
       "     MSFT    -0.024409 24.360000  \n",
       "2005 IBM     -0.047063 72.530000  \n",
       "     MSFT    -0.024396 23.990000  \n",
       "2006 IBM     -0.025211 73.340000  \n",
       "     MSFT    -0.035195 21.590000  "
      ]
     },
     "execution_count": 78,
     "metadata": {},
     "output_type": "execute_result"
    }
   ],
   "source": [
    "filtered_msft_ibm_1997_2006 = msft_ibm.query('year >= 1997 and year <= 2006') # Using the query() method to filter the years.\n",
    "filtered_msft_ibm_1997_2006.pivot_table(index=['year', 'ticker'], values=['open', 'log_return'], aggfunc=['mean', 'median', 'max', 'min']) # Creating pivot table."
   ]
  },
  {
   "cell_type": "markdown",
   "id": "3b-lMavUQdkb",
   "metadata": {
    "id": "3b-lMavUQdkb"
   },
   "source": [
    "### Period 2007 - 2016"
   ]
  },
  {
   "cell_type": "code",
   "execution_count": 79,
   "id": "XS81W_kSLKQh",
   "metadata": {
    "colab": {
     "base_uri": "https://localhost:8080/",
     "height": 739
    },
    "id": "XS81W_kSLKQh",
    "outputId": "9db4b2ee-0136-4879-a392-cb16c5d45cda"
   },
   "outputs": [
    {
     "data": {
      "text/html": [
       "<div>\n",
       "<style scoped>\n",
       "    .dataframe tbody tr th:only-of-type {\n",
       "        vertical-align: middle;\n",
       "    }\n",
       "\n",
       "    .dataframe tbody tr th {\n",
       "        vertical-align: top;\n",
       "    }\n",
       "\n",
       "    .dataframe thead tr th {\n",
       "        text-align: left;\n",
       "    }\n",
       "\n",
       "    .dataframe thead tr:last-of-type th {\n",
       "        text-align: right;\n",
       "    }\n",
       "</style>\n",
       "<table border=\"1\" class=\"dataframe\">\n",
       "  <thead>\n",
       "    <tr>\n",
       "      <th></th>\n",
       "      <th></th>\n",
       "      <th colspan=\"2\" halign=\"left\">mean</th>\n",
       "      <th colspan=\"2\" halign=\"left\">median</th>\n",
       "      <th colspan=\"2\" halign=\"left\">max</th>\n",
       "      <th colspan=\"2\" halign=\"left\">min</th>\n",
       "    </tr>\n",
       "    <tr>\n",
       "      <th></th>\n",
       "      <th></th>\n",
       "      <th>log_return</th>\n",
       "      <th>open</th>\n",
       "      <th>log_return</th>\n",
       "      <th>open</th>\n",
       "      <th>log_return</th>\n",
       "      <th>open</th>\n",
       "      <th>log_return</th>\n",
       "      <th>open</th>\n",
       "    </tr>\n",
       "    <tr>\n",
       "      <th>year</th>\n",
       "      <th>ticker</th>\n",
       "      <th></th>\n",
       "      <th></th>\n",
       "      <th></th>\n",
       "      <th></th>\n",
       "      <th></th>\n",
       "      <th></th>\n",
       "      <th></th>\n",
       "      <th></th>\n",
       "    </tr>\n",
       "  </thead>\n",
       "  <tbody>\n",
       "    <tr>\n",
       "      <th rowspan=\"2\" valign=\"top\">2007</th>\n",
       "      <th>IBM</th>\n",
       "      <td>0.000967</td>\n",
       "      <td>105.706211</td>\n",
       "      <td>0.001686</td>\n",
       "      <td>105.520000</td>\n",
       "      <td>0.027073</td>\n",
       "      <td>119.310000</td>\n",
       "      <td>-0.045489</td>\n",
       "      <td>90.250000</td>\n",
       "    </tr>\n",
       "    <tr>\n",
       "      <th>MSFT</th>\n",
       "      <td>0.000525</td>\n",
       "      <td>30.431219</td>\n",
       "      <td>0.000000</td>\n",
       "      <td>29.910000</td>\n",
       "      <td>0.035674</td>\n",
       "      <td>37.220000</td>\n",
       "      <td>-0.033406</td>\n",
       "      <td>26.820000</td>\n",
       "    </tr>\n",
       "    <tr>\n",
       "      <th rowspan=\"2\" valign=\"top\">2008</th>\n",
       "      <th>IBM</th>\n",
       "      <td>-0.000072</td>\n",
       "      <td>110.023577</td>\n",
       "      <td>0.001576</td>\n",
       "      <td>116.100000</td>\n",
       "      <td>0.069746</td>\n",
       "      <td>129.830000</td>\n",
       "      <td>-0.068289</td>\n",
       "      <td>72.740000</td>\n",
       "    </tr>\n",
       "    <tr>\n",
       "      <th>MSFT</th>\n",
       "      <td>-0.001732</td>\n",
       "      <td>26.692362</td>\n",
       "      <td>-0.003160</td>\n",
       "      <td>27.610000</td>\n",
       "      <td>0.109290</td>\n",
       "      <td>35.790000</td>\n",
       "      <td>-0.074336</td>\n",
       "      <td>18.020000</td>\n",
       "    </tr>\n",
       "    <tr>\n",
       "      <th rowspan=\"2\" valign=\"top\">2009</th>\n",
       "      <th>IBM</th>\n",
       "      <td>0.003475</td>\n",
       "      <td>108.904871</td>\n",
       "      <td>0.003215</td>\n",
       "      <td>107.135000</td>\n",
       "      <td>0.057055</td>\n",
       "      <td>132.410000</td>\n",
       "      <td>-0.056790</td>\n",
       "      <td>83.340000</td>\n",
       "    </tr>\n",
       "    <tr>\n",
       "      <th>MSFT</th>\n",
       "      <td>0.001715</td>\n",
       "      <td>22.935519</td>\n",
       "      <td>0.001313</td>\n",
       "      <td>23.350000</td>\n",
       "      <td>0.069730</td>\n",
       "      <td>31.350000</td>\n",
       "      <td>-0.052928</td>\n",
       "      <td>15.200000</td>\n",
       "    </tr>\n",
       "    <tr>\n",
       "      <th rowspan=\"2\" valign=\"top\">2010</th>\n",
       "      <th>IBM</th>\n",
       "      <td>0.001321</td>\n",
       "      <td>131.676925</td>\n",
       "      <td>0.001714</td>\n",
       "      <td>129.000000</td>\n",
       "      <td>0.042494</td>\n",
       "      <td>146.730000</td>\n",
       "      <td>-0.027251</td>\n",
       "      <td>121.470000</td>\n",
       "    </tr>\n",
       "    <tr>\n",
       "      <th>MSFT</th>\n",
       "      <td>-0.000623</td>\n",
       "      <td>27.072371</td>\n",
       "      <td>-0.000162</td>\n",
       "      <td>26.730000</td>\n",
       "      <td>0.036914</td>\n",
       "      <td>31.330000</td>\n",
       "      <td>-0.059246</td>\n",
       "      <td>23.090000</td>\n",
       "    </tr>\n",
       "    <tr>\n",
       "      <th rowspan=\"2\" valign=\"top\">2011</th>\n",
       "      <th>IBM</th>\n",
       "      <td>0.001218</td>\n",
       "      <td>170.729563</td>\n",
       "      <td>0.000280</td>\n",
       "      <td>168.540000</td>\n",
       "      <td>0.035558</td>\n",
       "      <td>193.640000</td>\n",
       "      <td>-0.034111</td>\n",
       "      <td>147.130000</td>\n",
       "    </tr>\n",
       "    <tr>\n",
       "      <th>MSFT</th>\n",
       "      <td>0.000237</td>\n",
       "      <td>26.045899</td>\n",
       "      <td>-0.000198</td>\n",
       "      <td>25.930000</td>\n",
       "      <td>0.041908</td>\n",
       "      <td>28.895000</td>\n",
       "      <td>-0.040397</td>\n",
       "      <td>23.750000</td>\n",
       "    </tr>\n",
       "    <tr>\n",
       "      <th rowspan=\"2\" valign=\"top\">2012</th>\n",
       "      <th>IBM</th>\n",
       "      <td>0.000189</td>\n",
       "      <td>196.530280</td>\n",
       "      <td>0.000453</td>\n",
       "      <td>195.460000</td>\n",
       "      <td>0.022020</td>\n",
       "      <td>211.150000</td>\n",
       "      <td>-0.028948</td>\n",
       "      <td>179.480000</td>\n",
       "    </tr>\n",
       "    <tr>\n",
       "      <th>MSFT</th>\n",
       "      <td>-0.000284</td>\n",
       "      <td>29.827550</td>\n",
       "      <td>-0.001553</td>\n",
       "      <td>30.055000</td>\n",
       "      <td>0.031661</td>\n",
       "      <td>32.910000</td>\n",
       "      <td>-0.028964</td>\n",
       "      <td>26.380000</td>\n",
       "    </tr>\n",
       "    <tr>\n",
       "      <th rowspan=\"2\" valign=\"top\">2013</th>\n",
       "      <th>IBM</th>\n",
       "      <td>0.000426</td>\n",
       "      <td>194.069227</td>\n",
       "      <td>0.000290</td>\n",
       "      <td>194.035000</td>\n",
       "      <td>0.026378</td>\n",
       "      <td>215.380000</td>\n",
       "      <td>-0.029763</td>\n",
       "      <td>173.220000</td>\n",
       "    </tr>\n",
       "    <tr>\n",
       "      <th>MSFT</th>\n",
       "      <td>0.001494</td>\n",
       "      <td>32.443603</td>\n",
       "      <td>0.000925</td>\n",
       "      <td>32.905000</td>\n",
       "      <td>0.036554</td>\n",
       "      <td>38.850000</td>\n",
       "      <td>-0.031351</td>\n",
       "      <td>26.490000</td>\n",
       "    </tr>\n",
       "    <tr>\n",
       "      <th rowspan=\"2\" valign=\"top\">2014</th>\n",
       "      <th>IBM</th>\n",
       "      <td>0.000233</td>\n",
       "      <td>182.260675</td>\n",
       "      <td>0.000173</td>\n",
       "      <td>186.255000</td>\n",
       "      <td>0.032728</td>\n",
       "      <td>198.050000</td>\n",
       "      <td>-0.030861</td>\n",
       "      <td>151.520000</td>\n",
       "    </tr>\n",
       "    <tr>\n",
       "      <th>MSFT</th>\n",
       "      <td>0.000374</td>\n",
       "      <td>42.437489</td>\n",
       "      <td>0.000417</td>\n",
       "      <td>41.845000</td>\n",
       "      <td>0.036267</td>\n",
       "      <td>49.740000</td>\n",
       "      <td>-0.035036</td>\n",
       "      <td>34.730000</td>\n",
       "    </tr>\n",
       "    <tr>\n",
       "      <th rowspan=\"2\" valign=\"top\">2015</th>\n",
       "      <th>IBM</th>\n",
       "      <td>-0.000134</td>\n",
       "      <td>155.374802</td>\n",
       "      <td>0.000031</td>\n",
       "      <td>157.275000</td>\n",
       "      <td>0.029871</td>\n",
       "      <td>174.470000</td>\n",
       "      <td>-0.041548</td>\n",
       "      <td>131.790000</td>\n",
       "    </tr>\n",
       "    <tr>\n",
       "      <th>MSFT</th>\n",
       "      <td>0.001181</td>\n",
       "      <td>46.658889</td>\n",
       "      <td>0.000286</td>\n",
       "      <td>46.160000</td>\n",
       "      <td>0.047266</td>\n",
       "      <td>56.470000</td>\n",
       "      <td>-0.050480</td>\n",
       "      <td>40.340000</td>\n",
       "    </tr>\n",
       "    <tr>\n",
       "      <th rowspan=\"2\" valign=\"top\">2016</th>\n",
       "      <th>IBM</th>\n",
       "      <td>0.001149</td>\n",
       "      <td>150.342520</td>\n",
       "      <td>0.000894</td>\n",
       "      <td>152.535000</td>\n",
       "      <td>0.028297</td>\n",
       "      <td>168.970000</td>\n",
       "      <td>-0.039240</td>\n",
       "      <td>118.460000</td>\n",
       "    </tr>\n",
       "    <tr>\n",
       "      <th>MSFT</th>\n",
       "      <td>0.000559</td>\n",
       "      <td>55.230476</td>\n",
       "      <td>0.000393</td>\n",
       "      <td>54.940000</td>\n",
       "      <td>0.031099</td>\n",
       "      <td>63.840000</td>\n",
       "      <td>-0.040977</td>\n",
       "      <td>48.680000</td>\n",
       "    </tr>\n",
       "  </tbody>\n",
       "</table>\n",
       "</div>"
      ],
      "text/plain": [
       "                  mean                median                   max             \\\n",
       "            log_return       open log_return       open log_return       open   \n",
       "year ticker                                                                     \n",
       "2007 IBM      0.000967 105.706211   0.001686 105.520000   0.027073 119.310000   \n",
       "     MSFT     0.000525  30.431219   0.000000  29.910000   0.035674  37.220000   \n",
       "2008 IBM     -0.000072 110.023577   0.001576 116.100000   0.069746 129.830000   \n",
       "     MSFT    -0.001732  26.692362  -0.003160  27.610000   0.109290  35.790000   \n",
       "2009 IBM      0.003475 108.904871   0.003215 107.135000   0.057055 132.410000   \n",
       "     MSFT     0.001715  22.935519   0.001313  23.350000   0.069730  31.350000   \n",
       "2010 IBM      0.001321 131.676925   0.001714 129.000000   0.042494 146.730000   \n",
       "     MSFT    -0.000623  27.072371  -0.000162  26.730000   0.036914  31.330000   \n",
       "2011 IBM      0.001218 170.729563   0.000280 168.540000   0.035558 193.640000   \n",
       "     MSFT     0.000237  26.045899  -0.000198  25.930000   0.041908  28.895000   \n",
       "2012 IBM      0.000189 196.530280   0.000453 195.460000   0.022020 211.150000   \n",
       "     MSFT    -0.000284  29.827550  -0.001553  30.055000   0.031661  32.910000   \n",
       "2013 IBM      0.000426 194.069227   0.000290 194.035000   0.026378 215.380000   \n",
       "     MSFT     0.001494  32.443603   0.000925  32.905000   0.036554  38.850000   \n",
       "2014 IBM      0.000233 182.260675   0.000173 186.255000   0.032728 198.050000   \n",
       "     MSFT     0.000374  42.437489   0.000417  41.845000   0.036267  49.740000   \n",
       "2015 IBM     -0.000134 155.374802   0.000031 157.275000   0.029871 174.470000   \n",
       "     MSFT     0.001181  46.658889   0.000286  46.160000   0.047266  56.470000   \n",
       "2016 IBM      0.001149 150.342520   0.000894 152.535000   0.028297 168.970000   \n",
       "     MSFT     0.000559  55.230476   0.000393  54.940000   0.031099  63.840000   \n",
       "\n",
       "                   min             \n",
       "            log_return       open  \n",
       "year ticker                        \n",
       "2007 IBM     -0.045489  90.250000  \n",
       "     MSFT    -0.033406  26.820000  \n",
       "2008 IBM     -0.068289  72.740000  \n",
       "     MSFT    -0.074336  18.020000  \n",
       "2009 IBM     -0.056790  83.340000  \n",
       "     MSFT    -0.052928  15.200000  \n",
       "2010 IBM     -0.027251 121.470000  \n",
       "     MSFT    -0.059246  23.090000  \n",
       "2011 IBM     -0.034111 147.130000  \n",
       "     MSFT    -0.040397  23.750000  \n",
       "2012 IBM     -0.028948 179.480000  \n",
       "     MSFT    -0.028964  26.380000  \n",
       "2013 IBM     -0.029763 173.220000  \n",
       "     MSFT    -0.031351  26.490000  \n",
       "2014 IBM     -0.030861 151.520000  \n",
       "     MSFT    -0.035036  34.730000  \n",
       "2015 IBM     -0.041548 131.790000  \n",
       "     MSFT    -0.050480  40.340000  \n",
       "2016 IBM     -0.039240 118.460000  \n",
       "     MSFT    -0.040977  48.680000  "
      ]
     },
     "execution_count": 79,
     "metadata": {},
     "output_type": "execute_result"
    }
   ],
   "source": [
    "filtered_msft_ibm_2007_2016 = msft_ibm.query('year >= 2007 and year <= 2016') # Using the query() method to filter the years.\n",
    "filtered_msft_ibm_2007_2016.pivot_table(index=['year', 'ticker'], values=['open', 'log_return'], aggfunc=['mean', 'median', 'max', 'min']) # Creating pivot table."
   ]
  },
  {
   "cell_type": "markdown",
   "id": "WwxlVeq6aseT",
   "metadata": {
    "id": "WwxlVeq6aseT"
   },
   "source": [
    "## Conclusion"
   ]
  },
  {
   "cell_type": "markdown",
   "id": "o00nC36xaxcP",
   "metadata": {
    "id": "o00nC36xaxcP"
   },
   "source": [
    "- Over time, Microsoft shows higher returns at 0.000557238 percentage points than IBM at 0.000183681.\n",
    "\n",
    "- These percentage points might look insignificant to the regular eye. However, for an investor owning thousands or millions of shares, negative or positive changes could impact her portfolio greatly.\n",
    "\n",
    "- Though IBM's stock outperformed Microsoft's in certain periods (such as 1996 and 2001), Microsoft has performed better than IBMs.\n",
    "\n",
    "- Microsoft stock is a better portfolio investment than IBM."
   ]
  }
 ],
 "metadata": {
  "colab": {
   "provenance": []
  },
  "kernelspec": {
   "display_name": "Python 3 (ipykernel)",
   "language": "python",
   "name": "python3"
  },
  "language_info": {
   "codemirror_mode": {
    "name": "ipython",
    "version": 3
   },
   "file_extension": ".py",
   "mimetype": "text/x-python",
   "name": "python",
   "nbconvert_exporter": "python",
   "pygments_lexer": "ipython3",
   "version": "3.9.13"
  }
 },
 "nbformat": 4,
 "nbformat_minor": 5
}
